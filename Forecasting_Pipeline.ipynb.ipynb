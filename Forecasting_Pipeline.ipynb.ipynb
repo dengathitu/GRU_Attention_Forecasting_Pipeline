{
  "cells": [
    {
      "cell_type": "markdown",
      "metadata": {
        "id": "P0a5yD9gtrPw"
      },
      "source": [
        "# **Introduction**\n",
        "## **Research Title**\n",
        "**Forecasting Bitcoin Price Movements Using GRU-Attention Networks and Sentiment-Enhanced Features.**\n",
        "\n",
        "## **Research Question**\n",
        "**Can the integration of sentiment analysis with GRU-Attention neural networks improve the predictive accuracy of forecasting future Bitcoin price movements, and how do these sentiment features contribute to the model's interpretability?**\n",
        "\n",
        "This notebook details the complete, end-to-end machine learning pipeline developed to address the research question.\n",
        "\n",
        "The pipeline is structured into the following key stages:\n",
        "\n",
        "* **Environment Setup**: All necessary libraries for data processing, deep learning, and statistical modeling are installed and imported.\n",
        "\n",
        "* **Data Loading & Preprocessing**: Raw datasets are loaded, aligned chronologically, and a crucial check for data leakage is performed.\n",
        "\n",
        "* **Feature Engineering**: Data is transformed to create a suitable target variable and predictor features.\n",
        "\n",
        "* **Model Training**: A GRU-Attention model is built and trained to forecast Bitcoin price movements.\n",
        "\n",
        "* **Baseline Comparisons**: The hybrid model's performance is evaluated against simpler baseline models.\n",
        "\n",
        "* **Evaluation & Interpretation**: Model performance is analyzed using appropriate metrics, and key insights into the contribution of sentiment features are provided.\n",
        "\n",
        "The implementation of this pipeline serves as the technical contribution of my applied research project. All code and a detailed explanation of the methodology are provided for full reproducibility.\n",
        "\n",
        "The datasets used in this project were sourced from:\n",
        "* BTC Prices: https://github.com/mouadja02/bitcoin-hourly-ohclv-dataset\n",
        "\n",
        "* Sentiment data: https://www.augmento.ai/download/2317/\n",
        "\n"
      ]
    },
    {
      "cell_type": "markdown",
      "metadata": {
        "id": "RK2rlkGby9W9"
      },
      "source": [
        "# Step 1: Environment Setup\n",
        "All necessary libraries for data processing, deep learning, and statistical modeling are installed and imported in this single block. Importing all required libraries at the beginning of the notebook is a best practice that ensures code clarity and prevents NameError issues in subsequent cells. The standard aliases (pd, np) are used for readability, and known warnings are suppressed to keep the output clean."
      ]
    },
    {
      "cell_type": "code",
      "execution_count": 46,
      "metadata": {
        "id": "DFbkRBYUtlbO"
      },
      "outputs": [],
      "source": [
        "# This code cell installs and imports all required libraries for the project.\n",
        "\n",
        "# Install libraries\n",
        "!pip install --quiet numpy pandas scikit-learn tensorflow arch matplotlib seaborn\n",
        "\n",
        "# Suppress known warnings for a cleaner output\n",
        "import warnings\n",
        "from arch.__future__ import reindexing\n",
        "from arch.univariate.base import ConvergenceWarning\n",
        "warnings.filterwarnings(\"ignore\", category=UserWarning, module=\"google.protobuf\")\n",
        "warnings.filterwarnings(\"ignore\", category=ConvergenceWarning)\n",
        "\n",
        "# Import all libraries\n",
        "import pandas as pd\n",
        "import numpy as np\n",
        "import matplotlib.pyplot as plt\n",
        "import seaborn as sns\n",
        "import tensorflow as tf\n",
        "from sklearn.preprocessing import MinMaxScaler\n",
        "from sklearn.model_selection import train_test_split\n",
        "from sklearn.metrics import mean_squared_error, mean_absolute_error, r2_score\n",
        "from tensorflow.keras.models import Model\n",
        "from tensorflow.keras.layers import Input, GRU, Dense, Activation, dot, Concatenate, Lambda\n",
        "import tensorflow.keras.backend as K\n",
        "from tensorflow.keras.callbacks import EarlyStopping\n",
        "from arch import arch_model\n",
        "from statsmodels.stats.diagnostic import acorr_ljungbox\n",
        "from statsmodels.stats.diagnostic import het_arch\n",
        "from scipy.stats import jarque_bera"
      ]
    },
    {
      "cell_type": "markdown",
      "metadata": {
        "id": "1yEfnNKFzb4p"
      },
      "source": [
        "# Step 2: Data Loading\n",
        ">The two primary datasets for this project—hourly Bitcoin OHLCV (Open, High, Low, Close, Volume) and hourly sentiment scores—are loaded from Google Drive. The data is read into pandas DataFrames, which provide a flexible and powerful structure for data manipulation. Loading the data into separate DataFrames allows each dataset's unique structure and contents to be inspected before they are merged."
      ]
    },
    {
      "cell_type": "code",
      "execution_count": 2,
      "metadata": {
        "colab": {
          "base_uri": "https://localhost:8080/"
        },
        "id": "4oF_4aEyzt7n",
        "outputId": "0ee8f6f2-36d3-4d36-aeb1-ee7cc72b8a34"
      },
      "outputs": [
        {
          "output_type": "stream",
          "name": "stdout",
          "text": [
            "Bitcoin Price Data (First 5 rows):\n",
            "    TIME_UNIX  DATE_STR  HOUR_STR  OPEN_PRICE  HIGH_PRICE  CLOSE_PRICE  \\\n",
            "0  1416031200  15-11-14         6      395.88      398.12       396.15   \n",
            "1  1416034800  15-11-14         7      396.15      397.49       397.15   \n",
            "2  1416038400  15-11-14         8      397.15      399.99       399.90   \n",
            "3  1416042000  15-11-14         9      399.90      399.90       392.56   \n",
            "4  1416045600  15-11-14        10      392.56      393.10       391.83   \n",
            "\n",
            "   LOW_PRICE  VOLUME_FROM  VOLUME_TO  \n",
            "0     394.43       459.60  182309.81  \n",
            "1     395.96       428.88  170256.62  \n",
            "2     396.91       445.96  178280.48  \n",
            "3     391.83       494.09  195473.98  \n",
            "4     390.03       437.84  171654.03  \n",
            "\n",
            "==================================================\n",
            "\n",
            "Sentiment Data (First 5 rows):\n",
            "                  date  listing_close  twitter_hacks  \\\n",
            "0  2016-11-01 23:00:00         726.60            0.0   \n",
            "1  2016-11-02 00:00:00         721.96            0.0   \n",
            "2  2016-11-02 01:00:00         722.49            0.0   \n",
            "3  2016-11-02 02:00:00         721.66            0.0   \n",
            "4  2016-11-02 03:00:00         724.89            0.0   \n",
            "\n",
            "   twitter_pessimistic_doubtful  twitter_banks  twitter_selling  \\\n",
            "0                           0.0            0.0              1.0   \n",
            "1                           0.0            1.0              0.0   \n",
            "2                           0.0            0.0              1.0   \n",
            "3                           2.0            0.0              0.0   \n",
            "4                           0.0            0.0              0.0   \n",
            "\n",
            "   twitter_market_manipulation  twitter_de_centralisation  twitter_angry  \\\n",
            "0                          0.0                        0.0            0.0   \n",
            "1                          1.0                        0.0            0.0   \n",
            "2                          0.0                        0.0            0.0   \n",
            "3                          0.0                        0.0            0.0   \n",
            "4                          0.0                        0.0            0.0   \n",
            "\n",
            "   twitter_etf  ...  reddit_buying  reddit_warning  reddit_annoyed_frustrated  \\\n",
            "0          0.0  ...            1.0             0.0                        0.0   \n",
            "1          0.0  ...            0.0             0.0                        0.0   \n",
            "2          0.0  ...            1.0             0.0                        0.0   \n",
            "3          0.0  ...            1.0             0.0                        0.0   \n",
            "4          2.0  ...            1.0             0.0                        0.0   \n",
            "\n",
            "   reddit_price  reddit_use_case_applications  reddit_rumor  \\\n",
            "0           2.0                           1.0           0.0   \n",
            "1           5.0                           1.0           0.0   \n",
            "2           4.0                           0.0           0.0   \n",
            "3           1.0                           1.0           0.0   \n",
            "4           2.0                           5.0           0.0   \n",
            "\n",
            "   reddit_scam_fraud  reddit_airdrop  reddit_optimistic  reddit_negative  \n",
            "0                0.0             0.0                2.0              6.0  \n",
            "1                0.0             0.0                3.0              3.0  \n",
            "2                2.0             0.0                3.0             12.0  \n",
            "3                0.0             0.0                0.0              4.0  \n",
            "4                1.0             0.0                2.0             11.0  \n",
            "\n",
            "[5 rows x 281 columns]\n",
            "\n",
            "==================================================\n",
            "\n",
            "Bitcoin Price Data Info:\n",
            "<class 'pandas.core.frame.DataFrame'>\n",
            "RangeIndex: 93954 entries, 0 to 93953\n",
            "Data columns (total 9 columns):\n",
            " #   Column       Non-Null Count  Dtype  \n",
            "---  ------       --------------  -----  \n",
            " 0   TIME_UNIX    93954 non-null  int64  \n",
            " 1   DATE_STR     93954 non-null  object \n",
            " 2   HOUR_STR     93954 non-null  int64  \n",
            " 3   OPEN_PRICE   93954 non-null  float64\n",
            " 4   HIGH_PRICE   93954 non-null  float64\n",
            " 5   CLOSE_PRICE  93954 non-null  float64\n",
            " 6   LOW_PRICE    93954 non-null  float64\n",
            " 7   VOLUME_FROM  93954 non-null  float64\n",
            " 8   VOLUME_TO    93954 non-null  float64\n",
            "dtypes: float64(6), int64(2), object(1)\n",
            "memory usage: 6.5+ MB\n",
            "\n",
            "==================================================\n",
            "\n",
            "Sentiment Data Info:\n",
            "<class 'pandas.core.frame.DataFrame'>\n",
            "RangeIndex: 76639 entries, 0 to 76638\n",
            "Columns: 281 entries, date to reddit_negative\n",
            "dtypes: float64(280), object(1)\n",
            "memory usage: 164.3+ MB\n"
          ]
        }
      ],
      "source": [
        "# This code cell loads the BTC OHLCV and sentiment data from Google Drive into pandas DataFrames.\n",
        "# We will inspect the first few rows and the data types to ensure a successful load.\n",
        "\n",
        "# Define the file paths to the datasets on Google Drive\n",
        "file_path_btc = '/content/drive/MyDrive/Dissertation_Data/btc_prices.csv'\n",
        "file_path_sentiment = '/content/drive/MyDrive/Dissertation_Data/sentiment.csv'\n",
        "\n",
        "# Load the datasets\n",
        "btc_df = pd.read_csv(file_path_btc)\n",
        "sentiment_df = pd.read_csv(file_path_sentiment)\n",
        "\n",
        "# Display the first 5 rows of each DataFrame\n",
        "print(\"Bitcoin Price Data (First 5 rows):\")\n",
        "print(btc_df.head())\n",
        "print(\"\\n\" + \"=\"*50 + \"\\n\")\n",
        "\n",
        "print(\"Sentiment Data (First 5 rows):\")\n",
        "print(sentiment_df.head())\n",
        "print(\"\\n\" + \"=\"*50 + \"\\n\")\n",
        "\n",
        "# Display a summary of the DataFrames, including column names and data types\n",
        "print(\"Bitcoin Price Data Info:\")\n",
        "btc_df.info()\n",
        "print(\"\\n\" + \"=\"*50 + \"\\n\")\n",
        "\n",
        "print(\"Sentiment Data Info:\")\n",
        "sentiment_df.info()"
      ]
    },
    {
      "cell_type": "markdown",
      "source": [
        "# Step 3: Data Alignment and Merging\n",
        ">The two datasets must be aligned and merged into a single DataFrame before any further analysis. This is a fundamental step in any time-series analysis involving multiple data sources. The process involves converting the date columns to a standardized datetime format, extracting common date and hour components, and then performing an inner merge to ensure only the shared time periods are included. This guarantees a consistent and complete dataset for subsequent feature engineering and modeling."
      ],
      "metadata": {
        "id": "o2uvR13hYuG9"
      }
    },
    {
      "cell_type": "code",
      "source": [
        "# This code cell aligns and merges the two DataFrames based on hourly timestamps.\n",
        "# The `how='inner'` merge ensures that only the time points present in both datasets are kept.\n",
        "\n",
        "# Convert the relevant date columns to datetime objects\n",
        "btc_df['DATETIME_KEY'] = pd.to_datetime(\n",
        "    btc_df['DATE_STR'].astype(str) + ' ' + btc_df['HOUR_STR'].astype(str),\n",
        "    format='%d-%m-%y %H'\n",
        ")\n",
        "sentiment_df['DATETIME_KEY'] = pd.to_datetime(sentiment_df['date'])\n",
        "\n",
        "# Filter to shared time range to ensure a clean merge\n",
        "start_time = max(btc_df['DATETIME_KEY'].min(), sentiment_df['DATETIME_KEY'].min())\n",
        "end_time = min(btc_df['DATETIME_KEY'].max(), sentiment_df['DATETIME_KEY'].max())\n",
        "\n",
        "btc_df_filtered = btc_df[(btc_df['DATETIME_KEY'] >= start_time) & (btc_df['DATETIME_KEY'] <= end_time)]\n",
        "sentiment_df_filtered = sentiment_df[(sentiment_df['DATETIME_KEY'] >= start_time) & (sentiment_df['DATETIME_KEY'] <= end_time)]\n",
        "\n",
        "# Merge the DataFrames on the common DATETIME_KEY\n",
        "merged_df = pd.merge(\n",
        "    btc_df_filtered,\n",
        "    sentiment_df_filtered,\n",
        "    on='DATETIME_KEY',\n",
        "    how='inner'\n",
        ")\n",
        "\n",
        "# Sort the merged DataFrame by the timestamp to ensure chronological order\n",
        "merged_df.sort_values(by='DATETIME_KEY', inplace=True)\n",
        "merged_df.reset_index(drop=True, inplace=True)\n",
        "\n",
        "# Display a summary of the merged DataFrame to confirm the operation was successful\n",
        "print(\"Merged DataFrame:\")\n",
        "print(merged_df.head())\n",
        "print(\"\\n\" + \"=\"*50 + \"\\n\")\n",
        "print(\"Merged DataFrame Info:\")\n",
        "merged_df.info()"
      ],
      "metadata": {
        "colab": {
          "base_uri": "https://localhost:8080/"
        },
        "id": "DIAw-CJVYwXO",
        "outputId": "c6b7ebc5-38ee-4cc9-c083-439bc3c19e21"
      },
      "execution_count": 3,
      "outputs": [
        {
          "output_type": "stream",
          "name": "stdout",
          "text": [
            "Merged DataFrame:\n",
            "    TIME_UNIX  DATE_STR  HOUR_STR  OPEN_PRICE  HIGH_PRICE  CLOSE_PRICE  \\\n",
            "0  1478041200  01-11-16        23      721.82      727.98       726.56   \n",
            "1  1478044800  02-11-16         0      726.56      729.78       726.31   \n",
            "2  1478048400  02-11-16         1      726.31      726.92       723.99   \n",
            "3  1478052000  02-11-16         2      723.99      727.11       722.74   \n",
            "4  1478055600  02-11-16         3      722.74      728.33       725.54   \n",
            "\n",
            "   LOW_PRICE  VOLUME_FROM   VOLUME_TO        DATETIME_KEY  ... reddit_buying  \\\n",
            "0     721.89      1214.67   889914.54 2016-11-01 23:00:00  ...           1.0   \n",
            "1     724.94       749.71   545871.94 2016-11-02 00:00:00  ...           0.0   \n",
            "2     722.88      1310.71   954423.91 2016-11-02 01:00:00  ...           1.0   \n",
            "3     720.56      1682.46  1221335.95 2016-11-02 02:00:00  ...           1.0   \n",
            "4     723.94      1398.86  1019746.25 2016-11-02 03:00:00  ...           1.0   \n",
            "\n",
            "   reddit_warning  reddit_annoyed_frustrated  reddit_price  \\\n",
            "0             0.0                        0.0           2.0   \n",
            "1             0.0                        0.0           5.0   \n",
            "2             0.0                        0.0           4.0   \n",
            "3             0.0                        0.0           1.0   \n",
            "4             0.0                        0.0           2.0   \n",
            "\n",
            "   reddit_use_case_applications  reddit_rumor  reddit_scam_fraud  \\\n",
            "0                           1.0           0.0                0.0   \n",
            "1                           1.0           0.0                0.0   \n",
            "2                           0.0           0.0                2.0   \n",
            "3                           1.0           0.0                0.0   \n",
            "4                           5.0           0.0                1.0   \n",
            "\n",
            "   reddit_airdrop  reddit_optimistic  reddit_negative  \n",
            "0             0.0                2.0              6.0  \n",
            "1             0.0                3.0              3.0  \n",
            "2             0.0                3.0             12.0  \n",
            "3             0.0                0.0              4.0  \n",
            "4             0.0                2.0             11.0  \n",
            "\n",
            "[5 rows x 291 columns]\n",
            "\n",
            "==================================================\n",
            "\n",
            "Merged DataFrame Info:\n",
            "<class 'pandas.core.frame.DataFrame'>\n",
            "RangeIndex: 76639 entries, 0 to 76638\n",
            "Columns: 291 entries, TIME_UNIX to reddit_negative\n",
            "dtypes: datetime64[ns](1), float64(286), int64(2), object(2)\n",
            "memory usage: 170.2+ MB\n"
          ]
        }
      ]
    },
    {
      "cell_type": "markdown",
      "source": [
        "## Step 3.1: Verifying the Chronological Split\n",
        ">To provide a definitive verification of the chronological split, a check is performed using the merged_df. The index where the split would occur between the training and testing sets is calculated. This index is then used to access the last timestamp of the training data and the first timestamp of the testing data from the merged_df. The chronological order is confirmed by comparing these two timestamps. This step guarantees that the train_test_split operation, which will be performed later, correctly prevents data leakage."
      ],
      "metadata": {
        "id": "8IPl3qw5ZFFQ"
      }
    },
    {
      "cell_type": "code",
      "source": [
        "# This code cell verifies the chronological split of the data using the merged DataFrame.\n",
        "\n",
        "# We calculate a hypothetical split index based on the expected train-test ratio.\n",
        "# The `len()` function gets the total number of rows.\n",
        "total_rows = len(merged_df)\n",
        "\n",
        "# A typical 80/20 train-test split is simulated to find the split point.\n",
        "# The index is then used to find the timestamps.\n",
        "split_index = int(total_rows * 0.8)\n",
        "\n",
        "# Find the last timestamp of the training set\n",
        "last_train_timestamp = merged_df.iloc[split_index - 1]['DATETIME_KEY']\n",
        "\n",
        "# Find the first timestamp of the testing set\n",
        "first_test_timestamp = merged_df.iloc[split_index]['DATETIME_KEY']\n",
        "\n",
        "# Perform the chronological check\n",
        "is_chronological = last_train_timestamp < first_test_timestamp\n",
        "\n",
        "print(f\"Last timestamp of training data: {last_train_timestamp}\")\n",
        "print(f\"First timestamp of testing data: {first_test_timestamp}\")\n",
        "print(f\"Is the split chronological? {is_chronological}\")"
      ],
      "metadata": {
        "colab": {
          "base_uri": "https://localhost:8080/"
        },
        "id": "ykFoEwxBZIIw",
        "outputId": "af1ce77d-6ffd-44e7-95b7-a2f7bbbf0c04"
      },
      "execution_count": 4,
      "outputs": [
        {
          "output_type": "stream",
          "name": "stdout",
          "text": [
            "Last timestamp of training data: 2023-10-31 13:00:00\n",
            "First timestamp of testing data: 2023-10-31 14:00:00\n",
            "Is the split chronological? True\n"
          ]
        }
      ]
    },
    {
      "cell_type": "markdown",
      "source": [
        "# Step 4: Feature Engineering\n",
        ">Before a forecasting model can be applied, raw price data is transformed into a meaningful target variable. The hourly **log return** is computed to measure the relative change in price, which is a standard practice in financial modeling. This *log_return* will serve as the primary target variable for the models, as it is a more stable metric for forecasting than the raw price. Subsequently, a rolling standard deviation of these log returns is calculated to create a *volatility feature*, which can be used as a powerful predictor in the model."
      ],
      "metadata": {
        "id": "xNRT-yZgZ1L2"
      }
    },
    {
      "cell_type": "code",
      "source": [
        "# This code cell creates the new features for the price forecasting model.\n",
        "\n",
        "# Calculate the log returns, which is a standard practice for measuring price movements\n",
        "# A small value is added to the denominator to prevent division by zero in case of a zero price.\n",
        "merged_df['log_return'] = np.log(merged_df['CLOSE_PRICE'] / merged_df['CLOSE_PRICE'].shift(1))\n",
        "\n",
        "# Calculate the rolling 24-hour volatility as the standard deviation of log returns\n",
        "merged_df['volatility'] = merged_df['log_return'].rolling(window=24).std()\n",
        "\n",
        "# Drop rows with NaN values resulting from the rolling window calculation\n",
        "merged_df.dropna(subset=['log_return', 'volatility'], inplace=True)\n",
        "\n",
        "# Display the first few rows and a summary to show the new features\n",
        "print(\"DataFrame with new features:\")\n",
        "print(merged_df[['CLOSE_PRICE', 'log_return', 'volatility']].head())\n",
        "print(\"\\n\" + \"=\"*50 + \"\\n\")\n",
        "print(\"DataFrame Info after feature engineering:\")\n",
        "merged_df.info()"
      ],
      "metadata": {
        "colab": {
          "base_uri": "https://localhost:8080/"
        },
        "id": "Rx5ASjXxaIZh",
        "outputId": "1365667f-8cf5-433d-a74c-dd79175d2df3"
      },
      "execution_count": 5,
      "outputs": [
        {
          "output_type": "stream",
          "name": "stdout",
          "text": [
            "DataFrame with new features:\n",
            "    CLOSE_PRICE  log_return  volatility\n",
            "24       733.24    0.001911    0.002668\n",
            "25       739.85    0.008974    0.003185\n",
            "26       741.19    0.001810    0.003076\n",
            "27       738.89   -0.003108    0.003141\n",
            "28       740.62    0.002339    0.003094\n",
            "\n",
            "==================================================\n",
            "\n",
            "DataFrame Info after feature engineering:\n",
            "<class 'pandas.core.frame.DataFrame'>\n",
            "Index: 76615 entries, 24 to 76638\n",
            "Columns: 293 entries, TIME_UNIX to volatility\n",
            "dtypes: datetime64[ns](1), float64(288), int64(2), object(2)\n",
            "memory usage: 171.9+ MB\n"
          ]
        }
      ]
    },
    {
      "cell_type": "markdown",
      "source": [
        "# Step 5: Data Scaling and Cleaning\n",
        ">To prepare the dataset for the deep learning models, two critical preprocessing steps are performed. First, the sentiment-related numerical features are scaled using a Min-Max scaler, which standardizes them to a range between 0 and 1. This standardization is essential for the stability and performance of neural networks. Second, non-numeric and irrelevant columns, such as the original date strings and timestamps, are removed from the DataFrame, ensuring that only the features necessary for training and forecasting are retained."
      ],
      "metadata": {
        "id": "2GVUjqaTaly_"
      }
    },
    {
      "cell_type": "code",
      "source": [
        "# This code cell scales the sentiment features and cleans the DataFrame of unnecessary columns.\n",
        "\n",
        "# A more robust method is used to get only the numeric sentiment columns for scaling.\n",
        "sentiment_cols_from_orig_df = sentiment_df.drop(columns=['date', 'listing_close']).columns.tolist()\n",
        "\n",
        "# Get a list of all numeric columns in the merged DataFrame\n",
        "numeric_cols = merged_df.select_dtypes(include=np.number).columns.tolist()\n",
        "\n",
        "# Create a final list of sentiment columns to scale by intersecting the two lists\n",
        "sentiment_cols_to_scale = [col for col in numeric_cols if col in sentiment_cols_from_orig_df]\n",
        "\n",
        "# Perform scaling on the selected columns\n",
        "scaler = MinMaxScaler()\n",
        "merged_df[sentiment_cols_to_scale] = scaler.fit_transform(merged_df[sentiment_cols_to_scale])\n",
        "\n",
        "# Drop all non-numeric and redundant columns\n",
        "columns_to_drop = ['DATE_STR', 'HOUR_STR', 'TIME_UNIX', 'DATETIME_KEY', 'date', 'listing_close']\n",
        "merged_df = merged_df.drop(columns=columns_to_drop, errors='ignore')\n",
        "\n",
        "# Convert the remaining columns to float32 for memory efficiency\n",
        "merged_df = merged_df.astype(np.float32)\n",
        "\n",
        "# Display the first few rows of the cleaned and scaled DataFrame and its info\n",
        "print(\"DataFrame after scaling and cleaning:\")\n",
        "print(merged_df.head())\n",
        "print(\"\\n\" + \"=\"*50 + \"\\n\")\n",
        "print(\"DataFrame Info after scaling and cleaning:\")\n",
        "merged_df.info()"
      ],
      "metadata": {
        "colab": {
          "base_uri": "https://localhost:8080/"
        },
        "id": "RzT5t7nxan0A",
        "outputId": "af3f8736-f630-442f-fee6-699a0f10217f"
      },
      "execution_count": 6,
      "outputs": [
        {
          "output_type": "stream",
          "name": "stdout",
          "text": [
            "DataFrame after scaling and cleaning:\n",
            "    OPEN_PRICE  HIGH_PRICE  CLOSE_PRICE   LOW_PRICE  VOLUME_FROM  \\\n",
            "24  731.840027  734.340027   733.239990  729.500000  1931.810059   \n",
            "25  733.239990  742.270020   739.849976  732.280029  3310.760010   \n",
            "26  739.849976  745.090027   741.190002  739.219971  2806.070068   \n",
            "27  741.190002  741.359985   738.890015  735.590027  2102.469971   \n",
            "28  738.890015  742.609985   740.619995  737.890015   794.409973   \n",
            "\n",
            "       VOLUME_TO  twitter_hacks  twitter_pessimistic_doubtful  twitter_banks  \\\n",
            "24  1.418442e+06       0.010753                      0.038462            0.0   \n",
            "25  2.452296e+06       0.000000                      0.000000            0.0   \n",
            "26  2.095398e+06       0.000000                      0.000000            0.0   \n",
            "27  1.567408e+06       0.000000                      0.000000            0.0   \n",
            "28  5.962742e+05       0.000000                      0.000000            0.0   \n",
            "\n",
            "    twitter_selling  ...  reddit_annoyed_frustrated  reddit_price  \\\n",
            "24              0.0  ...                   0.000000      0.005714   \n",
            "25              0.0  ...                   0.000000      0.015238   \n",
            "26              0.0  ...                   0.052632      0.015238   \n",
            "27              0.0  ...                   0.000000      0.009524   \n",
            "28              0.0  ...                   0.000000      0.005714   \n",
            "\n",
            "    reddit_use_case_applications  reddit_rumor  reddit_scam_fraud  \\\n",
            "24                      0.007426      0.000000           0.000000   \n",
            "25                      0.004950      0.000000           0.009709   \n",
            "26                      0.000000      0.038462           0.000000   \n",
            "27                      0.004950      0.000000           0.000000   \n",
            "28                      0.000000      0.000000           0.009709   \n",
            "\n",
            "    reddit_airdrop  reddit_optimistic  reddit_negative  log_return  volatility  \n",
            "24             0.0              0.000         0.016509    0.001911    0.002668  \n",
            "25             0.0              0.008         0.009434    0.008974    0.003185  \n",
            "26             0.0              0.016         0.016509    0.001810    0.003076  \n",
            "27             0.0              0.000         0.009434   -0.003108    0.003141  \n",
            "28             0.0              0.000         0.002358    0.002339    0.003094  \n",
            "\n",
            "[5 rows x 287 columns]\n",
            "\n",
            "==================================================\n",
            "\n",
            "DataFrame Info after scaling and cleaning:\n",
            "<class 'pandas.core.frame.DataFrame'>\n",
            "Index: 76615 entries, 24 to 76638\n",
            "Columns: 287 entries, OPEN_PRICE to volatility\n",
            "dtypes: float32(287)\n",
            "memory usage: 84.5 MB\n"
          ]
        }
      ]
    },
    {
      "cell_type": "markdown",
      "source": [
        "# Step 6: Sequence Construction\n",
        ">To prepare the data for the GRU-Attention model, the time-series data is restructured into input-output pairs. A sequence of a predefined length, known as the sequence_length, is created for each data point. For this price forecasting task, the model will be trained to use the features from the past n time steps (the input X) to predict the log return at the next time step (the target y). This sequence-based approach is fundamental for capturing the temporal dependencies and patterns within the data."
      ],
      "metadata": {
        "id": "u7t88HFFbnTO"
      }
    },
    {
      "cell_type": "code",
      "source": [
        "# This code cell creates the input sequences and corresponding target labels for the GRU model.\n",
        "# The target column is now set to 'log_return' to align with the new research question.\n",
        "\n",
        "def create_sequences(data, target_col, sequence_length):\n",
        "    \"\"\"\n",
        "    Creates input sequences and target labels from a time-series DataFrame.\n",
        "\n",
        "    Args:\n",
        "        data (pd.DataFrame): The input DataFrame.\n",
        "        target_col (str): The name of the target column.\n",
        "        sequence_length (int): The number of past time steps to use as input.\n",
        "\n",
        "    Returns:\n",
        "        np.array: The input sequences (X).\n",
        "        np.array: The target labels (y).\n",
        "    \"\"\"\n",
        "    X, y = [], []\n",
        "    for i in range(len(data) - sequence_length):\n",
        "        seq_x = data.iloc[i:i + sequence_length].drop(columns=[target_col]).values\n",
        "        seq_y = data.iloc[i + sequence_length][target_col]\n",
        "        X.append(seq_x)\n",
        "        y.append(seq_y)\n",
        "    return np.array(X), np.array(y)\n",
        "\n",
        "# Set the desired sequence length\n",
        "SEQUENCE_LENGTH = 30\n",
        "\n",
        "# Create the sequences using the cleaned DataFrame\n",
        "X, y = create_sequences(merged_df, target_col='log_return', sequence_length=SEQUENCE_LENGTH)\n",
        "\n",
        "# Print the shapes of the created sequences to verify the output\n",
        "print(\"Shape of input sequences (X):\", X.shape)\n",
        "print(\"Shape of target labels (y):\", y.shape)"
      ],
      "metadata": {
        "colab": {
          "base_uri": "https://localhost:8080/"
        },
        "id": "eROdTtRlb1DO",
        "outputId": "d8408528-d944-495c-c4e6-22e8fc049e89"
      },
      "execution_count": 7,
      "outputs": [
        {
          "output_type": "stream",
          "name": "stdout",
          "text": [
            "Shape of input sequences (X): (76585, 30, 286)\n",
            "Shape of target labels (y): (76585,)\n"
          ]
        }
      ]
    },
    {
      "cell_type": "markdown",
      "source": [
        "# Step 7: Train-Test Split\n",
        ">To rigorously evaluate the model's performance, the dataset is chronologically split into training and testing sets. A test size of 20% is used to ensure a sufficiently large evaluation period. This chronological split, achieved by setting the shuffle parameter to False, is essential for time-series forecasting. This approach guarantees that the model is trained only on historical data and tested on future, unseen data, thereby preventing data leakage and providing a realistic measure of predictive accuracy."
      ],
      "metadata": {
        "id": "_EgcOCkvb-Yl"
      }
    },
    {
      "cell_type": "code",
      "source": [
        "# This code cell splits the data into training and testing sets chronologically.\n",
        "from sklearn.model_selection import train_test_split\n",
        "\n",
        "# Split the data chronologically (shuffle=False)\n",
        "X_train, X_test, y_train, y_test = train_test_split(X, y, test_size=0.2, shuffle=False)\n",
        "\n",
        "# Print the shapes of the resulting datasets to verify the split was successful\n",
        "print(\"Shape of X_train:\", X_train.shape)\n",
        "print(\"Shape of y_train:\", y_train.shape)\n",
        "print(\"Shape of X_test:\", X_test.shape)\n",
        "print(\"Shape of y_test:\", y_test.shape)"
      ],
      "metadata": {
        "colab": {
          "base_uri": "https://localhost:8080/"
        },
        "id": "yQJpBOS-b-1s",
        "outputId": "7f9eb018-076d-473d-cec5-3970d17a1d24"
      },
      "execution_count": 8,
      "outputs": [
        {
          "output_type": "stream",
          "name": "stdout",
          "text": [
            "Shape of X_train: (61268, 30, 286)\n",
            "Shape of y_train: (61268,)\n",
            "Shape of X_test: (15317, 30, 286)\n",
            "Shape of y_test: (15317,)\n"
          ]
        }
      ]
    },
    {
      "cell_type": "markdown",
      "source": [
        "# Step 8: GRU-Attention Model Architecture\n",
        ">The deep learning component of the hybrid model is constructed. A Gated Recurrent Unit (GRU) layer is used to process the time-series input sequences and capture temporal patterns in the data. An Attention layer is then integrated to assign dynamic weights to each time step within the sequence. This attention mechanism allows the model to focus on the most relevant historical data points for making a prediction, which is crucial for handling long sequences and identifying key market signals. The model's final output is a single dense layer that predicts the future log return, representing price movement."
      ],
      "metadata": {
        "id": "zdyrIGocegPs"
      }
    },
    {
      "cell_type": "code",
      "source": [
        "# This code cell defines and builds the GRU-Attention neural network model.\n",
        "\n",
        "# Define the attention layer\n",
        "def attention_layer(inputs):\n",
        "    # inputs: [batch_size, time_steps, hidden_size]\n",
        "    hidden_states = inputs\n",
        "\n",
        "    # Compute attention scores\n",
        "    score_first_part = Dense(hidden_states.shape[-1], use_bias=False)(hidden_states)\n",
        "    h_t = Lambda(lambda x: x[:, -1, :], output_shape=(hidden_states.shape[-1],))(hidden_states)\n",
        "    score = dot([score_first_part, h_t], axes=[2, 1])\n",
        "    attention_weights = Activation('softmax')(score)\n",
        "\n",
        "    # Compute context vector\n",
        "    context_vector = dot([attention_weights, hidden_states], axes=[1, 1])\n",
        "    return context_vector\n",
        "\n",
        "# Define the model architecture\n",
        "input_seq = Input(shape=(X_train.shape[1], X_train.shape[2]))\n",
        "\n",
        "# GRU layer\n",
        "gru_out = GRU(64, return_sequences=True)(input_seq)\n",
        "\n",
        "# Attention layer\n",
        "attention_out = attention_layer(gru_out)\n",
        "\n",
        "# Final dense layer for output\n",
        "output = Dense(1)(attention_out)\n",
        "\n",
        "# Create the final model\n",
        "model = Model(inputs=input_seq, outputs=output)\n",
        "\n",
        "# Compile the model with the Adam optimizer and Mean Squared Error loss\n",
        "model.compile(optimizer='adam', loss='mean_squared_error')\n",
        "\n",
        "# Display the model summary to confirm the architecture\n",
        "model.summary()"
      ],
      "metadata": {
        "colab": {
          "base_uri": "https://localhost:8080/",
          "height": 457
        },
        "id": "FaNizVrnehMp",
        "outputId": "5ed51afd-9388-44b7-c160-a0a4069dfe21"
      },
      "execution_count": 9,
      "outputs": [
        {
          "output_type": "display_data",
          "data": {
            "text/plain": [
              "\u001b[1mModel: \"functional\"\u001b[0m\n"
            ],
            "text/html": [
              "<pre style=\"white-space:pre;overflow-x:auto;line-height:normal;font-family:Menlo,'DejaVu Sans Mono',consolas,'Courier New',monospace\"><span style=\"font-weight: bold\">Model: \"functional\"</span>\n",
              "</pre>\n"
            ]
          },
          "metadata": {}
        },
        {
          "output_type": "display_data",
          "data": {
            "text/plain": [
              "┏━━━━━━━━━━━━━━━━━━━━━┳━━━━━━━━━━━━━━━━━━━┳━━━━━━━━━━━━┳━━━━━━━━━━━━━━━━━━━┓\n",
              "┃\u001b[1m \u001b[0m\u001b[1mLayer (type)       \u001b[0m\u001b[1m \u001b[0m┃\u001b[1m \u001b[0m\u001b[1mOutput Shape     \u001b[0m\u001b[1m \u001b[0m┃\u001b[1m \u001b[0m\u001b[1m   Param #\u001b[0m\u001b[1m \u001b[0m┃\u001b[1m \u001b[0m\u001b[1mConnected to     \u001b[0m\u001b[1m \u001b[0m┃\n",
              "┡━━━━━━━━━━━━━━━━━━━━━╇━━━━━━━━━━━━━━━━━━━╇━━━━━━━━━━━━╇━━━━━━━━━━━━━━━━━━━┩\n",
              "│ input_layer         │ (\u001b[38;5;45mNone\u001b[0m, \u001b[38;5;34m30\u001b[0m, \u001b[38;5;34m286\u001b[0m)   │          \u001b[38;5;34m0\u001b[0m │ -                 │\n",
              "│ (\u001b[38;5;33mInputLayer\u001b[0m)        │                   │            │                   │\n",
              "├─────────────────────┼───────────────────┼────────────┼───────────────────┤\n",
              "│ gru (\u001b[38;5;33mGRU\u001b[0m)           │ (\u001b[38;5;45mNone\u001b[0m, \u001b[38;5;34m30\u001b[0m, \u001b[38;5;34m64\u001b[0m)    │     \u001b[38;5;34m67,584\u001b[0m │ input_layer[\u001b[38;5;34m0\u001b[0m][\u001b[38;5;34m0\u001b[0m] │\n",
              "├─────────────────────┼───────────────────┼────────────┼───────────────────┤\n",
              "│ dense (\u001b[38;5;33mDense\u001b[0m)       │ (\u001b[38;5;45mNone\u001b[0m, \u001b[38;5;34m30\u001b[0m, \u001b[38;5;34m64\u001b[0m)    │      \u001b[38;5;34m4,096\u001b[0m │ gru[\u001b[38;5;34m0\u001b[0m][\u001b[38;5;34m0\u001b[0m]         │\n",
              "├─────────────────────┼───────────────────┼────────────┼───────────────────┤\n",
              "│ lambda (\u001b[38;5;33mLambda\u001b[0m)     │ (\u001b[38;5;45mNone\u001b[0m, \u001b[38;5;34m64\u001b[0m)        │          \u001b[38;5;34m0\u001b[0m │ gru[\u001b[38;5;34m0\u001b[0m][\u001b[38;5;34m0\u001b[0m]         │\n",
              "├─────────────────────┼───────────────────┼────────────┼───────────────────┤\n",
              "│ dot (\u001b[38;5;33mDot\u001b[0m)           │ (\u001b[38;5;45mNone\u001b[0m, \u001b[38;5;34m30\u001b[0m)        │          \u001b[38;5;34m0\u001b[0m │ dense[\u001b[38;5;34m0\u001b[0m][\u001b[38;5;34m0\u001b[0m],      │\n",
              "│                     │                   │            │ lambda[\u001b[38;5;34m0\u001b[0m][\u001b[38;5;34m0\u001b[0m]      │\n",
              "├─────────────────────┼───────────────────┼────────────┼───────────────────┤\n",
              "│ activation          │ (\u001b[38;5;45mNone\u001b[0m, \u001b[38;5;34m30\u001b[0m)        │          \u001b[38;5;34m0\u001b[0m │ dot[\u001b[38;5;34m0\u001b[0m][\u001b[38;5;34m0\u001b[0m]         │\n",
              "│ (\u001b[38;5;33mActivation\u001b[0m)        │                   │            │                   │\n",
              "├─────────────────────┼───────────────────┼────────────┼───────────────────┤\n",
              "│ dot_1 (\u001b[38;5;33mDot\u001b[0m)         │ (\u001b[38;5;45mNone\u001b[0m, \u001b[38;5;34m64\u001b[0m)        │          \u001b[38;5;34m0\u001b[0m │ activation[\u001b[38;5;34m0\u001b[0m][\u001b[38;5;34m0\u001b[0m], │\n",
              "│                     │                   │            │ gru[\u001b[38;5;34m0\u001b[0m][\u001b[38;5;34m0\u001b[0m]         │\n",
              "├─────────────────────┼───────────────────┼────────────┼───────────────────┤\n",
              "│ dense_1 (\u001b[38;5;33mDense\u001b[0m)     │ (\u001b[38;5;45mNone\u001b[0m, \u001b[38;5;34m1\u001b[0m)         │         \u001b[38;5;34m65\u001b[0m │ dot_1[\u001b[38;5;34m0\u001b[0m][\u001b[38;5;34m0\u001b[0m]       │\n",
              "└─────────────────────┴───────────────────┴────────────┴───────────────────┘\n"
            ],
            "text/html": [
              "<pre style=\"white-space:pre;overflow-x:auto;line-height:normal;font-family:Menlo,'DejaVu Sans Mono',consolas,'Courier New',monospace\">┏━━━━━━━━━━━━━━━━━━━━━┳━━━━━━━━━━━━━━━━━━━┳━━━━━━━━━━━━┳━━━━━━━━━━━━━━━━━━━┓\n",
              "┃<span style=\"font-weight: bold\"> Layer (type)        </span>┃<span style=\"font-weight: bold\"> Output Shape      </span>┃<span style=\"font-weight: bold\">    Param # </span>┃<span style=\"font-weight: bold\"> Connected to      </span>┃\n",
              "┡━━━━━━━━━━━━━━━━━━━━━╇━━━━━━━━━━━━━━━━━━━╇━━━━━━━━━━━━╇━━━━━━━━━━━━━━━━━━━┩\n",
              "│ input_layer         │ (<span style=\"color: #00d7ff; text-decoration-color: #00d7ff\">None</span>, <span style=\"color: #00af00; text-decoration-color: #00af00\">30</span>, <span style=\"color: #00af00; text-decoration-color: #00af00\">286</span>)   │          <span style=\"color: #00af00; text-decoration-color: #00af00\">0</span> │ -                 │\n",
              "│ (<span style=\"color: #0087ff; text-decoration-color: #0087ff\">InputLayer</span>)        │                   │            │                   │\n",
              "├─────────────────────┼───────────────────┼────────────┼───────────────────┤\n",
              "│ gru (<span style=\"color: #0087ff; text-decoration-color: #0087ff\">GRU</span>)           │ (<span style=\"color: #00d7ff; text-decoration-color: #00d7ff\">None</span>, <span style=\"color: #00af00; text-decoration-color: #00af00\">30</span>, <span style=\"color: #00af00; text-decoration-color: #00af00\">64</span>)    │     <span style=\"color: #00af00; text-decoration-color: #00af00\">67,584</span> │ input_layer[<span style=\"color: #00af00; text-decoration-color: #00af00\">0</span>][<span style=\"color: #00af00; text-decoration-color: #00af00\">0</span>] │\n",
              "├─────────────────────┼───────────────────┼────────────┼───────────────────┤\n",
              "│ dense (<span style=\"color: #0087ff; text-decoration-color: #0087ff\">Dense</span>)       │ (<span style=\"color: #00d7ff; text-decoration-color: #00d7ff\">None</span>, <span style=\"color: #00af00; text-decoration-color: #00af00\">30</span>, <span style=\"color: #00af00; text-decoration-color: #00af00\">64</span>)    │      <span style=\"color: #00af00; text-decoration-color: #00af00\">4,096</span> │ gru[<span style=\"color: #00af00; text-decoration-color: #00af00\">0</span>][<span style=\"color: #00af00; text-decoration-color: #00af00\">0</span>]         │\n",
              "├─────────────────────┼───────────────────┼────────────┼───────────────────┤\n",
              "│ lambda (<span style=\"color: #0087ff; text-decoration-color: #0087ff\">Lambda</span>)     │ (<span style=\"color: #00d7ff; text-decoration-color: #00d7ff\">None</span>, <span style=\"color: #00af00; text-decoration-color: #00af00\">64</span>)        │          <span style=\"color: #00af00; text-decoration-color: #00af00\">0</span> │ gru[<span style=\"color: #00af00; text-decoration-color: #00af00\">0</span>][<span style=\"color: #00af00; text-decoration-color: #00af00\">0</span>]         │\n",
              "├─────────────────────┼───────────────────┼────────────┼───────────────────┤\n",
              "│ dot (<span style=\"color: #0087ff; text-decoration-color: #0087ff\">Dot</span>)           │ (<span style=\"color: #00d7ff; text-decoration-color: #00d7ff\">None</span>, <span style=\"color: #00af00; text-decoration-color: #00af00\">30</span>)        │          <span style=\"color: #00af00; text-decoration-color: #00af00\">0</span> │ dense[<span style=\"color: #00af00; text-decoration-color: #00af00\">0</span>][<span style=\"color: #00af00; text-decoration-color: #00af00\">0</span>],      │\n",
              "│                     │                   │            │ lambda[<span style=\"color: #00af00; text-decoration-color: #00af00\">0</span>][<span style=\"color: #00af00; text-decoration-color: #00af00\">0</span>]      │\n",
              "├─────────────────────┼───────────────────┼────────────┼───────────────────┤\n",
              "│ activation          │ (<span style=\"color: #00d7ff; text-decoration-color: #00d7ff\">None</span>, <span style=\"color: #00af00; text-decoration-color: #00af00\">30</span>)        │          <span style=\"color: #00af00; text-decoration-color: #00af00\">0</span> │ dot[<span style=\"color: #00af00; text-decoration-color: #00af00\">0</span>][<span style=\"color: #00af00; text-decoration-color: #00af00\">0</span>]         │\n",
              "│ (<span style=\"color: #0087ff; text-decoration-color: #0087ff\">Activation</span>)        │                   │            │                   │\n",
              "├─────────────────────┼───────────────────┼────────────┼───────────────────┤\n",
              "│ dot_1 (<span style=\"color: #0087ff; text-decoration-color: #0087ff\">Dot</span>)         │ (<span style=\"color: #00d7ff; text-decoration-color: #00d7ff\">None</span>, <span style=\"color: #00af00; text-decoration-color: #00af00\">64</span>)        │          <span style=\"color: #00af00; text-decoration-color: #00af00\">0</span> │ activation[<span style=\"color: #00af00; text-decoration-color: #00af00\">0</span>][<span style=\"color: #00af00; text-decoration-color: #00af00\">0</span>], │\n",
              "│                     │                   │            │ gru[<span style=\"color: #00af00; text-decoration-color: #00af00\">0</span>][<span style=\"color: #00af00; text-decoration-color: #00af00\">0</span>]         │\n",
              "├─────────────────────┼───────────────────┼────────────┼───────────────────┤\n",
              "│ dense_1 (<span style=\"color: #0087ff; text-decoration-color: #0087ff\">Dense</span>)     │ (<span style=\"color: #00d7ff; text-decoration-color: #00d7ff\">None</span>, <span style=\"color: #00af00; text-decoration-color: #00af00\">1</span>)         │         <span style=\"color: #00af00; text-decoration-color: #00af00\">65</span> │ dot_1[<span style=\"color: #00af00; text-decoration-color: #00af00\">0</span>][<span style=\"color: #00af00; text-decoration-color: #00af00\">0</span>]       │\n",
              "└─────────────────────┴───────────────────┴────────────┴───────────────────┘\n",
              "</pre>\n"
            ]
          },
          "metadata": {}
        },
        {
          "output_type": "display_data",
          "data": {
            "text/plain": [
              "\u001b[1m Total params: \u001b[0m\u001b[38;5;34m71,745\u001b[0m (280.25 KB)\n"
            ],
            "text/html": [
              "<pre style=\"white-space:pre;overflow-x:auto;line-height:normal;font-family:Menlo,'DejaVu Sans Mono',consolas,'Courier New',monospace\"><span style=\"font-weight: bold\"> Total params: </span><span style=\"color: #00af00; text-decoration-color: #00af00\">71,745</span> (280.25 KB)\n",
              "</pre>\n"
            ]
          },
          "metadata": {}
        },
        {
          "output_type": "display_data",
          "data": {
            "text/plain": [
              "\u001b[1m Trainable params: \u001b[0m\u001b[38;5;34m71,745\u001b[0m (280.25 KB)\n"
            ],
            "text/html": [
              "<pre style=\"white-space:pre;overflow-x:auto;line-height:normal;font-family:Menlo,'DejaVu Sans Mono',consolas,'Courier New',monospace\"><span style=\"font-weight: bold\"> Trainable params: </span><span style=\"color: #00af00; text-decoration-color: #00af00\">71,745</span> (280.25 KB)\n",
              "</pre>\n"
            ]
          },
          "metadata": {}
        },
        {
          "output_type": "display_data",
          "data": {
            "text/plain": [
              "\u001b[1m Non-trainable params: \u001b[0m\u001b[38;5;34m0\u001b[0m (0.00 B)\n"
            ],
            "text/html": [
              "<pre style=\"white-space:pre;overflow-x:auto;line-height:normal;font-family:Menlo,'DejaVu Sans Mono',consolas,'Courier New',monospace\"><span style=\"font-weight: bold\"> Non-trainable params: </span><span style=\"color: #00af00; text-decoration-color: #00af00\">0</span> (0.00 B)\n",
              "</pre>\n"
            ]
          },
          "metadata": {}
        }
      ]
    },
    {
      "cell_type": "markdown",
      "source": [
        "# Step 9: Model Training\n",
        ">With the model architecture defined, it is trained on the prepared training dataset. An EarlyStopping callback is implemented to monitor the validation loss and prevent the model from overfitting. The training process iteratively adjusts the model's weights to minimize the mean squared error (MSE) between the predicted and actual log returns. By monitoring performance on a held-out validation set, the most optimal model weights are restored, ensuring robust performance on unseen data."
      ],
      "metadata": {
        "id": "sTMhmoF9fJyV"
      }
    },
    {
      "cell_type": "code",
      "source": [
        "# This code cell trains the GRU-Attention model using the training data.\n",
        "\n",
        "# Configure early stopping to prevent overfitting\n",
        "# The training will stop if the validation loss does not improve for 5 consecutive epochs\n",
        "early_stop = EarlyStopping(monitor='val_loss', patience=5, restore_best_weights=True)\n",
        "\n",
        "# Train the model\n",
        "# The training history will be saved to analyze the learning process\n",
        "history = model.fit(\n",
        "    X_train,\n",
        "    y_train,\n",
        "    validation_data=(X_test, y_test),\n",
        "    epochs=20,\n",
        "    batch_size=64,\n",
        "    callbacks=[early_stop]\n",
        ")"
      ],
      "metadata": {
        "colab": {
          "base_uri": "https://localhost:8080/"
        },
        "id": "_c-OgQ_NfR-V",
        "outputId": "b3a7b22d-35ea-444c-d008-08dc42e2f5b6"
      },
      "execution_count": 10,
      "outputs": [
        {
          "output_type": "stream",
          "name": "stdout",
          "text": [
            "Epoch 1/20\n",
            "\u001b[1m958/958\u001b[0m \u001b[32m━━━━━━━━━━━━━━━━━━━━\u001b[0m\u001b[37m\u001b[0m \u001b[1m9s\u001b[0m 7ms/step - loss: 0.2423 - val_loss: 1.2300e-04\n",
            "Epoch 2/20\n",
            "\u001b[1m958/958\u001b[0m \u001b[32m━━━━━━━━━━━━━━━━━━━━\u001b[0m\u001b[37m\u001b[0m \u001b[1m6s\u001b[0m 6ms/step - loss: 8.5084e-05 - val_loss: 9.6499e-05\n",
            "Epoch 3/20\n",
            "\u001b[1m958/958\u001b[0m \u001b[32m━━━━━━━━━━━━━━━━━━━━\u001b[0m\u001b[37m\u001b[0m \u001b[1m6s\u001b[0m 6ms/step - loss: 7.3730e-05 - val_loss: 8.7029e-05\n",
            "Epoch 4/20\n",
            "\u001b[1m958/958\u001b[0m \u001b[32m━━━━━━━━━━━━━━━━━━━━\u001b[0m\u001b[37m\u001b[0m \u001b[1m5s\u001b[0m 6ms/step - loss: 7.6640e-05 - val_loss: 7.6700e-05\n",
            "Epoch 5/20\n",
            "\u001b[1m958/958\u001b[0m \u001b[32m━━━━━━━━━━━━━━━━━━━━\u001b[0m\u001b[37m\u001b[0m \u001b[1m6s\u001b[0m 6ms/step - loss: 7.9319e-05 - val_loss: 7.2820e-05\n",
            "Epoch 6/20\n",
            "\u001b[1m958/958\u001b[0m \u001b[32m━━━━━━━━━━━━━━━━━━━━\u001b[0m\u001b[37m\u001b[0m \u001b[1m6s\u001b[0m 6ms/step - loss: 7.6157e-05 - val_loss: 7.1913e-05\n",
            "Epoch 7/20\n",
            "\u001b[1m958/958\u001b[0m \u001b[32m━━━━━━━━━━━━━━━━━━━━\u001b[0m\u001b[37m\u001b[0m \u001b[1m6s\u001b[0m 6ms/step - loss: 7.0413e-05 - val_loss: 7.1149e-05\n",
            "Epoch 8/20\n",
            "\u001b[1m958/958\u001b[0m \u001b[32m━━━━━━━━━━━━━━━━━━━━\u001b[0m\u001b[37m\u001b[0m \u001b[1m5s\u001b[0m 6ms/step - loss: 7.3474e-05 - val_loss: 7.9404e-05\n",
            "Epoch 9/20\n",
            "\u001b[1m958/958\u001b[0m \u001b[32m━━━━━━━━━━━━━━━━━━━━\u001b[0m\u001b[37m\u001b[0m \u001b[1m6s\u001b[0m 6ms/step - loss: 7.4436e-05 - val_loss: 9.0571e-05\n",
            "Epoch 10/20\n",
            "\u001b[1m958/958\u001b[0m \u001b[32m━━━━━━━━━━━━━━━━━━━━\u001b[0m\u001b[37m\u001b[0m \u001b[1m6s\u001b[0m 6ms/step - loss: 7.6036e-05 - val_loss: 7.8447e-05\n",
            "Epoch 11/20\n",
            "\u001b[1m958/958\u001b[0m \u001b[32m━━━━━━━━━━━━━━━━━━━━\u001b[0m\u001b[37m\u001b[0m \u001b[1m6s\u001b[0m 6ms/step - loss: 7.5741e-05 - val_loss: 6.9383e-05\n",
            "Epoch 12/20\n",
            "\u001b[1m958/958\u001b[0m \u001b[32m━━━━━━━━━━━━━━━━━━━━\u001b[0m\u001b[37m\u001b[0m \u001b[1m5s\u001b[0m 6ms/step - loss: 7.8940e-05 - val_loss: 8.5943e-05\n",
            "Epoch 13/20\n",
            "\u001b[1m958/958\u001b[0m \u001b[32m━━━━━━━━━━━━━━━━━━━━\u001b[0m\u001b[37m\u001b[0m \u001b[1m6s\u001b[0m 6ms/step - loss: 7.5561e-05 - val_loss: 6.1227e-05\n",
            "Epoch 14/20\n",
            "\u001b[1m958/958\u001b[0m \u001b[32m━━━━━━━━━━━━━━━━━━━━\u001b[0m\u001b[37m\u001b[0m \u001b[1m6s\u001b[0m 6ms/step - loss: 8.4594e-05 - val_loss: 8.0368e-05\n",
            "Epoch 15/20\n",
            "\u001b[1m958/958\u001b[0m \u001b[32m━━━━━━━━━━━━━━━━━━━━\u001b[0m\u001b[37m\u001b[0m \u001b[1m6s\u001b[0m 6ms/step - loss: 7.4882e-05 - val_loss: 6.0903e-05\n",
            "Epoch 16/20\n",
            "\u001b[1m958/958\u001b[0m \u001b[32m━━━━━━━━━━━━━━━━━━━━\u001b[0m\u001b[37m\u001b[0m \u001b[1m6s\u001b[0m 6ms/step - loss: 7.6573e-05 - val_loss: 7.5107e-05\n",
            "Epoch 17/20\n",
            "\u001b[1m958/958\u001b[0m \u001b[32m━━━━━━━━━━━━━━━━━━━━\u001b[0m\u001b[37m\u001b[0m \u001b[1m5s\u001b[0m 6ms/step - loss: 7.7570e-05 - val_loss: 6.1467e-05\n",
            "Epoch 18/20\n",
            "\u001b[1m958/958\u001b[0m \u001b[32m━━━━━━━━━━━━━━━━━━━━\u001b[0m\u001b[37m\u001b[0m \u001b[1m6s\u001b[0m 6ms/step - loss: 7.9287e-05 - val_loss: 6.7683e-05\n",
            "Epoch 19/20\n",
            "\u001b[1m958/958\u001b[0m \u001b[32m━━━━━━━━━━━━━━━━━━━━\u001b[0m\u001b[37m\u001b[0m \u001b[1m6s\u001b[0m 6ms/step - loss: 7.9064e-05 - val_loss: 1.2537e-04\n",
            "Epoch 20/20\n",
            "\u001b[1m958/958\u001b[0m \u001b[32m━━━━━━━━━━━━━━━━━━━━\u001b[0m\u001b[37m\u001b[0m \u001b[1m6s\u001b[0m 6ms/step - loss: 7.9842e-05 - val_loss: 8.7993e-05\n"
          ]
        }
      ]
    },
    {
      "cell_type": "markdown",
      "source": [
        "# Step 10: Plot Training and Validation Loss\n",
        ">The training history of the model is visualized to provide a clear understanding of its learning curve. By plotting the training loss against the validation loss, it can be confirmed that the model has converged effectively and that overfitting has been successfully mitigated by the use of an early stopping mechanism. This visual analysis is a key component of the model evaluation"
      ],
      "metadata": {
        "id": "bz13CU2MhT7P"
      }
    },
    {
      "cell_type": "code",
      "source": [
        "# This code cell generates a plot of the training and validation loss.\n",
        "import matplotlib.pyplot as plt\n",
        "\n",
        "plt.figure(figsize=(12, 6))\n",
        "plt.plot(history.history['loss'], label='Training Loss')\n",
        "plt.plot(history.history['val_loss'], label='Validation Loss')\n",
        "plt.title('GRU-Attention Model Training History')\n",
        "plt.xlabel('Epochs')\n",
        "plt.ylabel('Loss (MSE)')\n",
        "plt.legend()\n",
        "plt.grid(True)\n",
        "plt.show()"
      ],
      "metadata": {
        "colab": {
          "base_uri": "https://localhost:8080/",
          "height": 558
        },
        "id": "FyVcU4Y7hURl",
        "outputId": "a38efda7-a631-40ae-bb0f-5b4457e4dc93"
      },
      "execution_count": 11,
      "outputs": [
        {
          "output_type": "display_data",
          "data": {
            "text/plain": [
              "<Figure size 1200x600 with 1 Axes>"
            ],
            "image/png": "[encoded data removed]"
          },
          "metadata": {}
        }
      ]
    },
    {
      "cell_type": "markdown",
      "source": [
        "# Step 11: Model Evaluation\n",
        "The performance of the trained GRU-Attention model is quantitatively assessed on the unseen test set. Three key metrics—Root Mean Squared Error (RMSE), Mean Absolute Error (MAE), and R-squared (R\n",
        "2\n",
        " )—are used to evaluate the model's predictive accuracy. The RMSE and MAE provide a measure of the average magnitude of the forecast errors, while the R-squared value indicates the proportion of the variance in the target variable that is predictable from the input features."
      ],
      "metadata": {
        "id": "nl9nbf_JiMbq"
      }
    },
    {
      "cell_type": "code",
      "source": [
        "# This code cell evaluates the GRU-Attention model on the test set using key metrics.\n",
        "from sklearn.metrics import mean_squared_error, mean_absolute_error, r2_score\n",
        "import numpy as np\n",
        "\n",
        "# Make predictions on the test set\n",
        "y_pred = model.predict(X_test)\n",
        "\n",
        "# Flatten the predictions to match the shape of y_test\n",
        "y_pred = y_pred.flatten()\n",
        "\n",
        "# Calculate evaluation metrics\n",
        "rmse = np.sqrt(mean_squared_error(y_test, y_pred))\n",
        "mae = mean_absolute_error(y_test, y_pred)\n",
        "r2 = r2_score(y_test, y_pred)\n",
        "\n",
        "# Print the results\n",
        "print(f\"Test RMSE: {rmse:.8f}\")\n",
        "print(f\"Test MAE:  {mae:.8f}\")\n",
        "print(f\"Test R²:   {r2:.8f}\")"
      ],
      "metadata": {
        "colab": {
          "base_uri": "https://localhost:8080/"
        },
        "id": "jGYIrF6piPtQ",
        "outputId": "4edf812c-cb52-46f7-8da5-af91fc072880"
      },
      "execution_count": 12,
      "outputs": [
        {
          "output_type": "stream",
          "name": "stdout",
          "text": [
            "\u001b[1m479/479\u001b[0m \u001b[32m━━━━━━━━━━━━━━━━━━━━\u001b[0m\u001b[37m\u001b[0m \u001b[1m1s\u001b[0m 2ms/step\n",
            "Test RMSE: 0.00780402\n",
            "Test MAE:  0.00378404\n",
            "Test R²:   -1.13433599\n"
          ]
        }
      ]
    },
    {
      "cell_type": "markdown",
      "source": [
        "# Step 12: GARCH Baseline for Price Movement Forecasting\n",
        ">To provide a robust benchmark for the GRU-Attention model, a standard GARCH(1,1) model is implemented. This model is applied directly to the rescaled log_return data. To accurately evaluate its predictive power, a rolling forecast is performed over the test period. To optimize performance, the process is parallelized using joblib. A try-except block is implemented to handle any potential convergence failures gracefully."
      ],
      "metadata": {
        "id": "gtZXmksXjNL5"
      }
    },
    {
      "cell_type": "code",
      "source": [
        "from arch import arch_model\n",
        "import warnings\n",
        "\n",
        "# Prepare data for rolling GARCH forecast\n",
        "garch_data = merged_df['log_return'].dropna()\n",
        "rescaled_garch_data = garch_data * 100  # Rescale for optimizer stability\n",
        "\n",
        "print(\"GARCH data prepared for rolling forecast.\")\n"
      ],
      "metadata": {
        "colab": {
          "base_uri": "https://localhost:8080/"
        },
        "id": "eN4jYCBF_MVL",
        "outputId": "fef966d7-2ae6-42e1-d2c8-16753e89101a"
      },
      "execution_count": 30,
      "outputs": [
        {
          "output_type": "stream",
          "name": "stdout",
          "text": [
            "GARCH data prepared for rolling forecast.\n"
          ]
        }
      ]
    },
    {
      "cell_type": "markdown",
      "source": [
        "# Step 13: GARCH Baseline Evaluation\n",
        ">To provide a robust comparison with the deep learning model, the performance of the GARCH baseline is evaluated on the test data. The GARCH model's rolling forecasts for price movement are compared against the actual log_return. The key metrics, RMSE, MAE, and R\n",
        "2\n",
        " , are computed to quantify the model's predictive accuracy and to provide a direct benchmark against the GRU-Attention model's results."
      ],
      "metadata": {
        "id": "tuHNMdGeoDQ4"
      }
    },
    {
      "cell_type": "code",
      "source": [
        "from arch import arch_model\n",
        "from sklearn.metrics import mean_squared_error, mean_absolute_error, r2_score\n",
        "\n",
        "# Parameters\n",
        "window_size = 500       # Number of points used to fit each GARCH model\n",
        "forecast_horizon = 1    # One-step-ahead forecast\n",
        "test_size = 100         # Number of rolling forecasts\n",
        "\n",
        "# Prepare data (rescaled)\n",
        "log_returns = merged_df['log_return'].dropna() * 100\n",
        "\n",
        "# Storage for predictions and actuals\n",
        "garch_predictions = []\n",
        "garch_actuals = []\n",
        "\n",
        "# Rolling forecast loop\n",
        "for i in range(test_size):\n",
        "    train_end = -test_size + i\n",
        "    train_data = log_returns.iloc[:train_end]\n",
        "    test_point = log_returns.iloc[train_end]\n",
        "\n",
        "\n",
        "    # Fit GARCH(1,1)\n",
        "    model = arch_model(train_data, mean='AR', lags=1, vol='GARCH', p=1, q=1, dist='normal')\n",
        "    results = model.fit(disp='off')\n",
        "    forecast = results.forecast(horizon=forecast_horizon)\n",
        "    predicted = forecast.mean.values[-1][0]\n",
        "\n",
        "    garch_predictions.append(predicted)\n",
        "    garch_actuals.append(test_point)\n",
        "\n",
        "# Evaluate\n",
        "rmse = np.sqrt(mean_squared_error(garch_actuals, garch_predictions))\n",
        "mae = mean_absolute_error(garch_actuals, garch_predictions)\n",
        "r2 = r2_score(garch_actuals, garch_predictions)\n",
        "\n",
        "# Print results\n",
        "print(\"GARCH Baseline Metrics (Rolling Forecast):\")\n",
        "print(f\"  RMSE: {rmse:.8f}\")\n",
        "print(f\"  MAE:  {mae:.8f}\")\n",
        "print(f\"  R²:   {r2:.8f}\")"
      ],
      "metadata": {
        "colab": {
          "base_uri": "https://localhost:8080/"
        },
        "id": "G8_tt7t5_UlK",
        "outputId": "94acd160-0a72-48ad-8948-2cbd09050f02"
      },
      "execution_count": 57,
      "outputs": [
        {
          "output_type": "stream",
          "name": "stdout",
          "text": [
            "GARCH Baseline Metrics (Rolling Forecast):\n",
            "  RMSE: 0.26839305\n",
            "  MAE:  0.19249439\n",
            "  R²:   0.00486395\n"
          ]
        }
      ]
    },
    {
      "cell_type": "markdown",
      "source": [
        "# Step 14: Ablation Study (Without Sentiment)\n",
        ">To quantify the value of the sentiment features, a new GRU-Attention model will be trained on a modified dataset where all sentiment-related columns have been removed. This model, known as an ablation model, will serve as a direct benchmark for the sentiment-enhanced model. By comparing the performance of the two models on the same test set, the contribution of the sentiment data to the predictive accuracy can be isolated and measured."
      ],
      "metadata": {
        "id": "fvBr350rD1PL"
      }
    },
    {
      "cell_type": "code",
      "source": [
        "# This code cell prepares the data for the ablation study.\n",
        "\n",
        "# Drop all sentiment-related columns from the merged_df\n",
        "# The `columns` from the original sentiment_df are used to ensure all are dropped\n",
        "sentiment_cols_to_drop = [col for col in merged_df.columns if col.startswith(('twitter_', 'reddit_', 'bitcointalk_'))]\n",
        "\n",
        "# Create a new DataFrame without the sentiment columns\n",
        "no_sentiment_df = merged_df.drop(columns=sentiment_cols_to_drop)\n",
        "\n",
        "# Display a summary of the new DataFrame to confirm the columns have been dropped\n",
        "print(\"DataFrame without sentiment features:\")\n",
        "no_sentiment_df.info()"
      ],
      "metadata": {
        "colab": {
          "base_uri": "https://localhost:8080/"
        },
        "id": "TuTj0TB4D4O4",
        "outputId": "b3207474-5d2f-40dd-a822-5a9076b1d1d4"
      },
      "execution_count": 49,
      "outputs": [
        {
          "output_type": "stream",
          "name": "stdout",
          "text": [
            "DataFrame without sentiment features:\n",
            "<class 'pandas.core.frame.DataFrame'>\n",
            "Index: 76615 entries, 24 to 76638\n",
            "Data columns (total 8 columns):\n",
            " #   Column       Non-Null Count  Dtype  \n",
            "---  ------       --------------  -----  \n",
            " 0   OPEN_PRICE   76615 non-null  float32\n",
            " 1   HIGH_PRICE   76615 non-null  float32\n",
            " 2   CLOSE_PRICE  76615 non-null  float32\n",
            " 3   LOW_PRICE    76615 non-null  float32\n",
            " 4   VOLUME_FROM  76615 non-null  float32\n",
            " 5   VOLUME_TO    76615 non-null  float32\n",
            " 6   log_return   76615 non-null  float32\n",
            " 7   volatility   76615 non-null  float32\n",
            "dtypes: float32(8)\n",
            "memory usage: 2.9 MB\n"
          ]
        }
      ]
    },
    {
      "cell_type": "markdown",
      "source": [
        "# Step 15: Sequence Construction for Ablation Model\n",
        "> To prepare the data for the ablation model, the modified no_sentiment_df is restructured into input-output pairs. A sequence of a predefined length, known as the sequence_length, is created for each data point. For this price forecasting task, the model will be trained to use the features from the past n time steps (the input X_ns) to predict the log return at the next time step (the target y_ns)."
      ],
      "metadata": {
        "id": "VuUPGwPYESWj"
      }
    },
    {
      "cell_type": "code",
      "source": [
        "# This code cell creates the input sequences and corresponding target labels for the ablation model.\n",
        "# The `create_sequences` function from Step 6 is used here.\n",
        "\n",
        "# Create the sequences using the no_sentiment DataFrame\n",
        "X_ns, y_ns = create_sequences(no_sentiment_df, target_col='log_return', sequence_length=30)\n",
        "\n",
        "# Print the shapes of the created sequences to verify the output\n",
        "print(\"Shape of input sequences (X_ns):\", X_ns.shape)\n",
        "print(\"Shape of target labels (y_ns):\", y_ns.shape)"
      ],
      "metadata": {
        "colab": {
          "base_uri": "https://localhost:8080/"
        },
        "id": "YGiomjHzEU0r",
        "outputId": "d07793cc-8202-4b58-e09a-c2eb512556bb"
      },
      "execution_count": 50,
      "outputs": [
        {
          "output_type": "stream",
          "name": "stdout",
          "text": [
            "Shape of input sequences (X_ns): (76585, 30, 7)\n",
            "Shape of target labels (y_ns): (76585,)\n"
          ]
        }
      ]
    },
    {
      "cell_type": "markdown",
      "source": [
        "# Step 16: Train-Test Split for Ablation Model\n",
        ">To rigorously evaluate the ablation model's performance, the newly created sequences are chronologically split into training and testing sets. A test size of 20% is used to ensure a sufficiently large evaluation period. This chronological split, achieved by setting the shuffle parameter to False, is essential for time-series forecasting. This approach guarantees that the model is trained only on historical data and tested on future, unseen data, thereby preventing data leakage and providing a realistic measure of predictive accuracy."
      ],
      "metadata": {
        "id": "Uwo2ysnDFM52"
      }
    },
    {
      "cell_type": "code",
      "source": [
        "# This code cell splits the ablation model's data into training and testing sets chronologically.\n",
        "from sklearn.model_selection import train_test_split\n",
        "\n",
        "# Split the data chronologically (shuffle=False)\n",
        "X_train_ns, X_test_ns, y_train_ns, y_test_ns = train_test_split(X_ns, y_ns, test_size=0.2, shuffle=False)\n",
        "\n",
        "# Print the shapes of the resulting datasets to verify the split was successful\n",
        "print(\"Shape of X_train_ns:\", X_train_ns.shape)\n",
        "print(\"Shape of y_train_ns:\", y_train_ns.shape)\n",
        "print(\"Shape of X_test_ns:\", X_test_ns.shape)\n",
        "print(\"Shape of y_test_ns:\", y_test_ns.shape)"
      ],
      "metadata": {
        "colab": {
          "base_uri": "https://localhost:8080/"
        },
        "id": "BnWcuDtPFXT3",
        "outputId": "b1f4b48c-eb76-4fa6-c4a2-34331e4f8820"
      },
      "execution_count": 51,
      "outputs": [
        {
          "output_type": "stream",
          "name": "stdout",
          "text": [
            "Shape of X_train_ns: (61268, 30, 7)\n",
            "Shape of y_train_ns: (61268,)\n",
            "Shape of X_test_ns: (15317, 30, 7)\n",
            "Shape of y_test_ns: (15317,)\n"
          ]
        }
      ]
    },
    {
      "cell_type": "markdown",
      "source": [
        "# Step 17: Ablation Model Architecture\n",
        "A new GRU-Attention model, referred to as the ablation model, is constructed with an architecture identical to the main model. The key difference is that its input layer is configured to accept the smaller dataset, which has been stripped of all sentiment features. The model is compiled with the same optimizer and loss function as the main model to ensure a fair comparison. The purpose of this ablation study is to isolate the performance gains that can be attributed directly to the sentiment data."
      ],
      "metadata": {
        "id": "sTAoPRFNGCYu"
      }
    },
    {
      "cell_type": "code",
      "source": [
        "# This code cell defines and builds the GRU-Attention ablation model.\n",
        "\n",
        "# The attention_layer function is the same as in Step 8\n",
        "def attention_layer(inputs):\n",
        "    hidden_states = inputs\n",
        "    score_first_part = Dense(hidden_states.shape[-1], use_bias=False)(hidden_states)\n",
        "    h_t = Lambda(lambda x: x[:, -1, :], output_shape=(hidden_states.shape[-1],))(hidden_states)\n",
        "    score = dot([score_first_part, h_t], axes=[2, 1])\n",
        "    attention_weights = Activation('softmax')(score)\n",
        "    context_vector = dot([attention_weights, hidden_states], axes=[1, 1])\n",
        "    return context_vector\n",
        "\n",
        "# Define the model architecture for the ablation study\n",
        "input_seq_ns = Input(shape=(X_train_ns.shape[1], X_train_ns.shape[2]))\n",
        "\n",
        "# GRU layer\n",
        "gru_out_ns = GRU(64, return_sequences=True)(input_seq_ns)\n",
        "\n",
        "# Attention layer\n",
        "attention_out_ns = attention_layer(gru_out_ns)\n",
        "\n",
        "# Final dense layer for output\n",
        "output_ns = Dense(1)(attention_out_ns)\n",
        "\n",
        "# Create the final ablation model\n",
        "model_ns = Model(inputs=input_seq_ns, outputs=output_ns)\n",
        "\n",
        "# Compile the model with the Adam optimizer and Mean Squared Error loss\n",
        "model_ns.compile(optimizer='adam', loss='mean_squared_error')\n",
        "\n",
        "# Display the model summary to confirm the architecture\n",
        "model_ns.summary()"
      ],
      "metadata": {
        "colab": {
          "base_uri": "https://localhost:8080/",
          "height": 457
        },
        "id": "okL8fSJcGB5P",
        "outputId": "90d94e55-30e5-45eb-9c6e-69f2a5a3d562"
      },
      "execution_count": 52,
      "outputs": [
        {
          "output_type": "display_data",
          "data": {
            "text/plain": [
              "\u001b[1mModel: \"functional_2\"\u001b[0m\n"
            ],
            "text/html": [
              "<pre style=\"white-space:pre;overflow-x:auto;line-height:normal;font-family:Menlo,'DejaVu Sans Mono',consolas,'Courier New',monospace\"><span style=\"font-weight: bold\">Model: \"functional_2\"</span>\n",
              "</pre>\n"
            ]
          },
          "metadata": {}
        },
        {
          "output_type": "display_data",
          "data": {
            "text/plain": [
              "┏━━━━━━━━━━━━━━━━━━━━━┳━━━━━━━━━━━━━━━━━━━┳━━━━━━━━━━━━┳━━━━━━━━━━━━━━━━━━━┓\n",
              "┃\u001b[1m \u001b[0m\u001b[1mLayer (type)       \u001b[0m\u001b[1m \u001b[0m┃\u001b[1m \u001b[0m\u001b[1mOutput Shape     \u001b[0m\u001b[1m \u001b[0m┃\u001b[1m \u001b[0m\u001b[1m   Param #\u001b[0m\u001b[1m \u001b[0m┃\u001b[1m \u001b[0m\u001b[1mConnected to     \u001b[0m\u001b[1m \u001b[0m┃\n",
              "┡━━━━━━━━━━━━━━━━━━━━━╇━━━━━━━━━━━━━━━━━━━╇━━━━━━━━━━━━╇━━━━━━━━━━━━━━━━━━━┩\n",
              "│ input_layer_2       │ (\u001b[38;5;45mNone\u001b[0m, \u001b[38;5;34m30\u001b[0m, \u001b[38;5;34m7\u001b[0m)     │          \u001b[38;5;34m0\u001b[0m │ -                 │\n",
              "│ (\u001b[38;5;33mInputLayer\u001b[0m)        │                   │            │                   │\n",
              "├─────────────────────┼───────────────────┼────────────┼───────────────────┤\n",
              "│ gru_2 (\u001b[38;5;33mGRU\u001b[0m)         │ (\u001b[38;5;45mNone\u001b[0m, \u001b[38;5;34m30\u001b[0m, \u001b[38;5;34m64\u001b[0m)    │     \u001b[38;5;34m14,016\u001b[0m │ input_layer_2[\u001b[38;5;34m0\u001b[0m]… │\n",
              "├─────────────────────┼───────────────────┼────────────┼───────────────────┤\n",
              "│ dense_4 (\u001b[38;5;33mDense\u001b[0m)     │ (\u001b[38;5;45mNone\u001b[0m, \u001b[38;5;34m30\u001b[0m, \u001b[38;5;34m64\u001b[0m)    │      \u001b[38;5;34m4,096\u001b[0m │ gru_2[\u001b[38;5;34m0\u001b[0m][\u001b[38;5;34m0\u001b[0m]       │\n",
              "├─────────────────────┼───────────────────┼────────────┼───────────────────┤\n",
              "│ lambda_2 (\u001b[38;5;33mLambda\u001b[0m)   │ (\u001b[38;5;45mNone\u001b[0m, \u001b[38;5;34m64\u001b[0m)        │          \u001b[38;5;34m0\u001b[0m │ gru_2[\u001b[38;5;34m0\u001b[0m][\u001b[38;5;34m0\u001b[0m]       │\n",
              "├─────────────────────┼───────────────────┼────────────┼───────────────────┤\n",
              "│ dot_4 (\u001b[38;5;33mDot\u001b[0m)         │ (\u001b[38;5;45mNone\u001b[0m, \u001b[38;5;34m30\u001b[0m)        │          \u001b[38;5;34m0\u001b[0m │ dense_4[\u001b[38;5;34m0\u001b[0m][\u001b[38;5;34m0\u001b[0m],    │\n",
              "│                     │                   │            │ lambda_2[\u001b[38;5;34m0\u001b[0m][\u001b[38;5;34m0\u001b[0m]    │\n",
              "├─────────────────────┼───────────────────┼────────────┼───────────────────┤\n",
              "│ activation_2        │ (\u001b[38;5;45mNone\u001b[0m, \u001b[38;5;34m30\u001b[0m)        │          \u001b[38;5;34m0\u001b[0m │ dot_4[\u001b[38;5;34m0\u001b[0m][\u001b[38;5;34m0\u001b[0m]       │\n",
              "│ (\u001b[38;5;33mActivation\u001b[0m)        │                   │            │                   │\n",
              "├─────────────────────┼───────────────────┼────────────┼───────────────────┤\n",
              "│ dot_5 (\u001b[38;5;33mDot\u001b[0m)         │ (\u001b[38;5;45mNone\u001b[0m, \u001b[38;5;34m64\u001b[0m)        │          \u001b[38;5;34m0\u001b[0m │ activation_2[\u001b[38;5;34m0\u001b[0m][\u001b[38;5;34m…\u001b[0m │\n",
              "│                     │                   │            │ gru_2[\u001b[38;5;34m0\u001b[0m][\u001b[38;5;34m0\u001b[0m]       │\n",
              "├─────────────────────┼───────────────────┼────────────┼───────────────────┤\n",
              "│ dense_5 (\u001b[38;5;33mDense\u001b[0m)     │ (\u001b[38;5;45mNone\u001b[0m, \u001b[38;5;34m1\u001b[0m)         │         \u001b[38;5;34m65\u001b[0m │ dot_5[\u001b[38;5;34m0\u001b[0m][\u001b[38;5;34m0\u001b[0m]       │\n",
              "└─────────────────────┴───────────────────┴────────────┴───────────────────┘\n"
            ],
            "text/html": [
              "<pre style=\"white-space:pre;overflow-x:auto;line-height:normal;font-family:Menlo,'DejaVu Sans Mono',consolas,'Courier New',monospace\">┏━━━━━━━━━━━━━━━━━━━━━┳━━━━━━━━━━━━━━━━━━━┳━━━━━━━━━━━━┳━━━━━━━━━━━━━━━━━━━┓\n",
              "┃<span style=\"font-weight: bold\"> Layer (type)        </span>┃<span style=\"font-weight: bold\"> Output Shape      </span>┃<span style=\"font-weight: bold\">    Param # </span>┃<span style=\"font-weight: bold\"> Connected to      </span>┃\n",
              "┡━━━━━━━━━━━━━━━━━━━━━╇━━━━━━━━━━━━━━━━━━━╇━━━━━━━━━━━━╇━━━━━━━━━━━━━━━━━━━┩\n",
              "│ input_layer_2       │ (<span style=\"color: #00d7ff; text-decoration-color: #00d7ff\">None</span>, <span style=\"color: #00af00; text-decoration-color: #00af00\">30</span>, <span style=\"color: #00af00; text-decoration-color: #00af00\">7</span>)     │          <span style=\"color: #00af00; text-decoration-color: #00af00\">0</span> │ -                 │\n",
              "│ (<span style=\"color: #0087ff; text-decoration-color: #0087ff\">InputLayer</span>)        │                   │            │                   │\n",
              "├─────────────────────┼───────────────────┼────────────┼───────────────────┤\n",
              "│ gru_2 (<span style=\"color: #0087ff; text-decoration-color: #0087ff\">GRU</span>)         │ (<span style=\"color: #00d7ff; text-decoration-color: #00d7ff\">None</span>, <span style=\"color: #00af00; text-decoration-color: #00af00\">30</span>, <span style=\"color: #00af00; text-decoration-color: #00af00\">64</span>)    │     <span style=\"color: #00af00; text-decoration-color: #00af00\">14,016</span> │ input_layer_2[<span style=\"color: #00af00; text-decoration-color: #00af00\">0</span>]… │\n",
              "├─────────────────────┼───────────────────┼────────────┼───────────────────┤\n",
              "│ dense_4 (<span style=\"color: #0087ff; text-decoration-color: #0087ff\">Dense</span>)     │ (<span style=\"color: #00d7ff; text-decoration-color: #00d7ff\">None</span>, <span style=\"color: #00af00; text-decoration-color: #00af00\">30</span>, <span style=\"color: #00af00; text-decoration-color: #00af00\">64</span>)    │      <span style=\"color: #00af00; text-decoration-color: #00af00\">4,096</span> │ gru_2[<span style=\"color: #00af00; text-decoration-color: #00af00\">0</span>][<span style=\"color: #00af00; text-decoration-color: #00af00\">0</span>]       │\n",
              "├─────────────────────┼───────────────────┼────────────┼───────────────────┤\n",
              "│ lambda_2 (<span style=\"color: #0087ff; text-decoration-color: #0087ff\">Lambda</span>)   │ (<span style=\"color: #00d7ff; text-decoration-color: #00d7ff\">None</span>, <span style=\"color: #00af00; text-decoration-color: #00af00\">64</span>)        │          <span style=\"color: #00af00; text-decoration-color: #00af00\">0</span> │ gru_2[<span style=\"color: #00af00; text-decoration-color: #00af00\">0</span>][<span style=\"color: #00af00; text-decoration-color: #00af00\">0</span>]       │\n",
              "├─────────────────────┼───────────────────┼────────────┼───────────────────┤\n",
              "│ dot_4 (<span style=\"color: #0087ff; text-decoration-color: #0087ff\">Dot</span>)         │ (<span style=\"color: #00d7ff; text-decoration-color: #00d7ff\">None</span>, <span style=\"color: #00af00; text-decoration-color: #00af00\">30</span>)        │          <span style=\"color: #00af00; text-decoration-color: #00af00\">0</span> │ dense_4[<span style=\"color: #00af00; text-decoration-color: #00af00\">0</span>][<span style=\"color: #00af00; text-decoration-color: #00af00\">0</span>],    │\n",
              "│                     │                   │            │ lambda_2[<span style=\"color: #00af00; text-decoration-color: #00af00\">0</span>][<span style=\"color: #00af00; text-decoration-color: #00af00\">0</span>]    │\n",
              "├─────────────────────┼───────────────────┼────────────┼───────────────────┤\n",
              "│ activation_2        │ (<span style=\"color: #00d7ff; text-decoration-color: #00d7ff\">None</span>, <span style=\"color: #00af00; text-decoration-color: #00af00\">30</span>)        │          <span style=\"color: #00af00; text-decoration-color: #00af00\">0</span> │ dot_4[<span style=\"color: #00af00; text-decoration-color: #00af00\">0</span>][<span style=\"color: #00af00; text-decoration-color: #00af00\">0</span>]       │\n",
              "│ (<span style=\"color: #0087ff; text-decoration-color: #0087ff\">Activation</span>)        │                   │            │                   │\n",
              "├─────────────────────┼───────────────────┼────────────┼───────────────────┤\n",
              "│ dot_5 (<span style=\"color: #0087ff; text-decoration-color: #0087ff\">Dot</span>)         │ (<span style=\"color: #00d7ff; text-decoration-color: #00d7ff\">None</span>, <span style=\"color: #00af00; text-decoration-color: #00af00\">64</span>)        │          <span style=\"color: #00af00; text-decoration-color: #00af00\">0</span> │ activation_2[<span style=\"color: #00af00; text-decoration-color: #00af00\">0</span>][<span style=\"color: #00af00; text-decoration-color: #00af00\">…</span> │\n",
              "│                     │                   │            │ gru_2[<span style=\"color: #00af00; text-decoration-color: #00af00\">0</span>][<span style=\"color: #00af00; text-decoration-color: #00af00\">0</span>]       │\n",
              "├─────────────────────┼───────────────────┼────────────┼───────────────────┤\n",
              "│ dense_5 (<span style=\"color: #0087ff; text-decoration-color: #0087ff\">Dense</span>)     │ (<span style=\"color: #00d7ff; text-decoration-color: #00d7ff\">None</span>, <span style=\"color: #00af00; text-decoration-color: #00af00\">1</span>)         │         <span style=\"color: #00af00; text-decoration-color: #00af00\">65</span> │ dot_5[<span style=\"color: #00af00; text-decoration-color: #00af00\">0</span>][<span style=\"color: #00af00; text-decoration-color: #00af00\">0</span>]       │\n",
              "└─────────────────────┴───────────────────┴────────────┴───────────────────┘\n",
              "</pre>\n"
            ]
          },
          "metadata": {}
        },
        {
          "output_type": "display_data",
          "data": {
            "text/plain": [
              "\u001b[1m Total params: \u001b[0m\u001b[38;5;34m18,177\u001b[0m (71.00 KB)\n"
            ],
            "text/html": [
              "<pre style=\"white-space:pre;overflow-x:auto;line-height:normal;font-family:Menlo,'DejaVu Sans Mono',consolas,'Courier New',monospace\"><span style=\"font-weight: bold\"> Total params: </span><span style=\"color: #00af00; text-decoration-color: #00af00\">18,177</span> (71.00 KB)\n",
              "</pre>\n"
            ]
          },
          "metadata": {}
        },
        {
          "output_type": "display_data",
          "data": {
            "text/plain": [
              "\u001b[1m Trainable params: \u001b[0m\u001b[38;5;34m18,177\u001b[0m (71.00 KB)\n"
            ],
            "text/html": [
              "<pre style=\"white-space:pre;overflow-x:auto;line-height:normal;font-family:Menlo,'DejaVu Sans Mono',consolas,'Courier New',monospace\"><span style=\"font-weight: bold\"> Trainable params: </span><span style=\"color: #00af00; text-decoration-color: #00af00\">18,177</span> (71.00 KB)\n",
              "</pre>\n"
            ]
          },
          "metadata": {}
        },
        {
          "output_type": "display_data",
          "data": {
            "text/plain": [
              "\u001b[1m Non-trainable params: \u001b[0m\u001b[38;5;34m0\u001b[0m (0.00 B)\n"
            ],
            "text/html": [
              "<pre style=\"white-space:pre;overflow-x:auto;line-height:normal;font-family:Menlo,'DejaVu Sans Mono',consolas,'Courier New',monospace\"><span style=\"font-weight: bold\"> Non-trainable params: </span><span style=\"color: #00af00; text-decoration-color: #00af00\">0</span> (0.00 B)\n",
              "</pre>\n"
            ]
          },
          "metadata": {}
        }
      ]
    },
    {
      "cell_type": "markdown",
      "source": [
        "# Step 18: Ablation Model Training\n",
        ">With the ablation model architecture defined, it is trained on the prepared training dataset without sentiment features. An EarlyStopping callback is implemented to monitor the validation loss and prevent overfitting, just as with the main model. The training process iteratively adjusts the model's weights to minimize the mean squared error (MSE) between the predicted and actual log returns. This training will produce the performance metrics we need for the final comparison."
      ],
      "metadata": {
        "id": "RASUBEdvGMuY"
      }
    },
    {
      "cell_type": "code",
      "source": [
        "# This code cell trains the ablation model using the training data without sentiment features.\n",
        "\n",
        "# Configure early stopping to prevent overfitting\n",
        "# The training will stop if the validation loss does not improve for 5 consecutive epochs\n",
        "early_stop = EarlyStopping(monitor='val_loss', patience=5, restore_best_weights=True)\n",
        "\n",
        "# Train the model\n",
        "# The training history will be saved to analyze the learning process\n",
        "history_ns = model_ns.fit(\n",
        "    X_train_ns,\n",
        "    y_train_ns,\n",
        "    validation_data=(X_test_ns, y_test_ns),\n",
        "    epochs=20,\n",
        "    batch_size=64,\n",
        "    callbacks=[early_stop]\n",
        ")"
      ],
      "metadata": {
        "colab": {
          "base_uri": "https://localhost:8080/"
        },
        "id": "YVr3slngGnoW",
        "outputId": "69eda2bf-f4e0-476b-f0cc-276a5341fb98"
      },
      "execution_count": 53,
      "outputs": [
        {
          "output_type": "stream",
          "name": "stdout",
          "text": [
            "Epoch 1/20\n",
            "\u001b[1m958/958\u001b[0m \u001b[32m━━━━━━━━━━━━━━━━━━━━\u001b[0m\u001b[37m\u001b[0m \u001b[1m6s\u001b[0m 5ms/step - loss: 0.0085 - val_loss: 4.2461e-04\n",
            "Epoch 2/20\n",
            "\u001b[1m958/958\u001b[0m \u001b[32m━━━━━━━━━━━━━━━━━━━━\u001b[0m\u001b[37m\u001b[0m \u001b[1m5s\u001b[0m 5ms/step - loss: 1.0455e-04 - val_loss: 1.6477e-04\n",
            "Epoch 3/20\n",
            "\u001b[1m958/958\u001b[0m \u001b[32m━━━━━━━━━━━━━━━━━━━━\u001b[0m\u001b[37m\u001b[0m \u001b[1m5s\u001b[0m 5ms/step - loss: 7.7831e-05 - val_loss: 1.3291e-04\n",
            "Epoch 4/20\n",
            "\u001b[1m958/958\u001b[0m \u001b[32m━━━━━━━━━━━━━━━━━━━━\u001b[0m\u001b[37m\u001b[0m \u001b[1m5s\u001b[0m 5ms/step - loss: 7.7848e-05 - val_loss: 1.3696e-04\n",
            "Epoch 5/20\n",
            "\u001b[1m958/958\u001b[0m \u001b[32m━━━━━━━━━━━━━━━━━━━━\u001b[0m\u001b[37m\u001b[0m \u001b[1m5s\u001b[0m 5ms/step - loss: 7.7148e-05 - val_loss: 7.0933e-05\n",
            "Epoch 6/20\n",
            "\u001b[1m958/958\u001b[0m \u001b[32m━━━━━━━━━━━━━━━━━━━━\u001b[0m\u001b[37m\u001b[0m \u001b[1m5s\u001b[0m 5ms/step - loss: 7.7641e-05 - val_loss: 7.7952e-05\n",
            "Epoch 7/20\n",
            "\u001b[1m958/958\u001b[0m \u001b[32m━━━━━━━━━━━━━━━━━━━━\u001b[0m\u001b[37m\u001b[0m \u001b[1m5s\u001b[0m 5ms/step - loss: 8.4980e-05 - val_loss: 9.0481e-05\n",
            "Epoch 8/20\n",
            "\u001b[1m958/958\u001b[0m \u001b[32m━━━━━━━━━━━━━━━━━━━━\u001b[0m\u001b[37m\u001b[0m \u001b[1m5s\u001b[0m 5ms/step - loss: 8.1006e-05 - val_loss: 5.9229e-05\n",
            "Epoch 9/20\n",
            "\u001b[1m958/958\u001b[0m \u001b[32m━━━━━━━━━━━━━━━━━━━━\u001b[0m\u001b[37m\u001b[0m \u001b[1m5s\u001b[0m 5ms/step - loss: 7.7533e-05 - val_loss: 7.7511e-05\n",
            "Epoch 10/20\n",
            "\u001b[1m958/958\u001b[0m \u001b[32m━━━━━━━━━━━━━━━━━━━━\u001b[0m\u001b[37m\u001b[0m \u001b[1m5s\u001b[0m 5ms/step - loss: 7.9012e-05 - val_loss: 7.8931e-05\n",
            "Epoch 11/20\n",
            "\u001b[1m958/958\u001b[0m \u001b[32m━━━━━━━━━━━━━━━━━━━━\u001b[0m\u001b[37m\u001b[0m \u001b[1m5s\u001b[0m 5ms/step - loss: 7.9003e-05 - val_loss: 7.4755e-05\n",
            "Epoch 12/20\n",
            "\u001b[1m958/958\u001b[0m \u001b[32m━━━━━━━━━━━━━━━━━━━━\u001b[0m\u001b[37m\u001b[0m \u001b[1m5s\u001b[0m 5ms/step - loss: 8.1727e-05 - val_loss: 6.2298e-05\n",
            "Epoch 13/20\n",
            "\u001b[1m958/958\u001b[0m \u001b[32m━━━━━━━━━━━━━━━━━━━━\u001b[0m\u001b[37m\u001b[0m \u001b[1m5s\u001b[0m 5ms/step - loss: 8.0229e-05 - val_loss: 6.8959e-05\n"
          ]
        }
      ]
    },
    {
      "cell_type": "markdown",
      "source": [
        "# Step 19: Plot Ablation Model's Training and Validation Loss\n",
        ">The training history of the ablation model is visualized to provide a clear understanding of its learning curve. By plotting the training loss against the validation loss, it can be confirmed that the model has converged effectively and that overfitting has been successfully mitigated by the use of an early stopping mechanism. This visual analysis is a key component of the model evaluation process."
      ],
      "metadata": {
        "id": "hsJ69sTiGibE"
      }
    },
    {
      "cell_type": "code",
      "source": [
        "# This code cell generates a plot of the training and validation loss for the ablation model.\n",
        "import matplotlib.pyplot as plt\n",
        "\n",
        "plt.figure(figsize=(12, 6))\n",
        "plt.plot(history_ns.history['loss'], label='Ablation Model Training Loss')\n",
        "plt.plot(history_ns.history['val_loss'], label='Ablation Model Validation Loss')\n",
        "plt.title('Ablation Model Training History (Without Sentiment)')\n",
        "plt.xlabel('Epochs')\n",
        "plt.ylabel('Loss (MSE)')\n",
        "plt.legend()\n",
        "plt.grid(True)\n",
        "plt.show()"
      ],
      "metadata": {
        "colab": {
          "base_uri": "https://localhost:8080/",
          "height": 584
        },
        "id": "AQxX_cHSHdCQ",
        "outputId": "8dbd1126-0485-4163-bff4-ba39c6c3599d"
      },
      "execution_count": 40,
      "outputs": [
        {
          "output_type": "display_data",
          "data": {
            "text/plain": [
              "<Figure size 1200x600 with 1 Axes>"
            ],
            "image/png": "[encoded data removed]"
          },
          "metadata": {}
        }
      ]
    },
    {
      "cell_type": "markdown",
      "source": [
        "# Step 20: Ablation Model Evaluation\n",
        ">The performance of the ablation model is quantitatively assessed on its dedicated test set. The same key metrics—Root Mean Squared Error (RMSE), Mean Absolute Error (MAE), and R-squared (R\n",
        "2\n",
        " )—are used for this evaluation. The results from this step will be directly compared to the metrics of your main model to determine the impact of the sentiment features."
      ],
      "metadata": {
        "id": "eXIlqEt-H4PZ"
      }
    },
    {
      "cell_type": "code",
      "source": [
        "# This code cell evaluates the ablation model on the test set.\n",
        "from sklearn.metrics import mean_squared_error, mean_absolute_error, r2_score\n",
        "import numpy as np\n",
        "\n",
        "# Make predictions on the test set without sentiment features\n",
        "y_pred_ns = model_ns.predict(X_test_ns)\n",
        "\n",
        "# Flatten the predictions to match the shape of y_test_ns\n",
        "y_pred_ns = y_pred_ns.flatten()\n",
        "\n",
        "# Calculate evaluation metrics\n",
        "rmse_ns = np.sqrt(mean_squared_error(y_test_ns, y_pred_ns))\n",
        "mae_ns = mean_absolute_error(y_test_ns, y_pred_ns)\n",
        "r2_ns = r2_score(y_test_ns, y_pred_ns)\n",
        "\n",
        "# Print the results\n",
        "print(\"Ablation Model Metrics (Without Sentiment):\")\n",
        "print(f\"  RMSE: {rmse_ns:.8f}\")\n",
        "print(f\"  MAE:  {mae_ns:.8f}\")\n",
        "print(f\"  R²:   {r2_ns:.8f}\")"
      ],
      "metadata": {
        "colab": {
          "base_uri": "https://localhost:8080/"
        },
        "id": "_lg0KmI5H8ij",
        "outputId": "50cc5ce1-4bf5-41c6-c3cc-f0bcd4f1810f"
      },
      "execution_count": 41,
      "outputs": [
        {
          "output_type": "stream",
          "name": "stdout",
          "text": [
            "\u001b[1m479/479\u001b[0m \u001b[32m━━━━━━━━━━━━━━━━━━━━\u001b[0m\u001b[37m\u001b[0m \u001b[1m1s\u001b[0m 2ms/step\n",
            "Ablation Model Metrics (Without Sentiment):\n",
            "  RMSE: 0.00683451\n",
            "  MAE:  0.00406037\n",
            "  R²:   -0.63696861\n"
          ]
        }
      ]
    },
    {
      "cell_type": "markdown",
      "source": [
        "# Step 21: Final Results and Discussion\n",
        ">All of the model evaluation metrics are compiled and presented in a final summary table. This step is a culmination of the entire pipeline and directly addresses the research question. The performance of the main model (with sentiment) is compared to the GARCH and ablation models to provide a definitive conclusion on the value of the sentiment-enhanced GRU-Attention network for forecasting Bitcoin price movements."
      ],
      "metadata": {
        "id": "O9Z2k9NnIkSH"
      }
    },
    {
      "cell_type": "code",
      "source": [
        "# This code cell presents a final summary of all model results.\n",
        "\n",
        "# Store all the metrics in a dictionary for easy display\n",
        "results_summary = {\n",
        "    \"Model\": [\"GRU-Attention (With Sentiment)\", \"GARCH Baseline\", \"Ablation (Without Sentiment)\"],\n",
        "    \"RMSE\": [0.00780402, 0.26839305, 0.00683451],\n",
        "    \"MAE\": [0.00378404, 0.19249439, 0.00406037],\n",
        "    \"R²\": [-1.13433599, 0.00486395, -0.63696861]\n",
        "}\n",
        "\n",
        "# Create a DataFrame from the dictionary\n",
        "results_df = pd.DataFrame(results_summary)\n",
        "\n",
        "# Display the final results\n",
        "print(\"Final Results Summary:\")\n",
        "print(results_df)"
      ],
      "metadata": {
        "colab": {
          "base_uri": "https://localhost:8080/"
        },
        "id": "v2UKCDCULhof",
        "outputId": "d1509390-bb24-4726-84c5-dd7c49874020"
      },
      "execution_count": 59,
      "outputs": [
        {
          "output_type": "stream",
          "name": "stdout",
          "text": [
            "Final Results Summary:\n",
            "                            Model      RMSE       MAE        R²\n",
            "0  GRU-Attention (With Sentiment)  0.007804  0.003784 -1.134336\n",
            "1                  GARCH Baseline  0.268393  0.192494  0.004864\n",
            "2    Ablation (Without Sentiment)  0.006835  0.004060 -0.636969\n"
          ]
        }
      ]
    },
    {
      "cell_type": "markdown",
      "source": [
        "# Exporting the Notebook as HTML in Google Colab\n",
        "* First download and save the notebook.\n",
        "* Re-upload it to colab.\n",
        "* Run the following command to convert it to HTML:"
      ],
      "metadata": {
        "id": "MWldtJ9TPLg7"
      }
    },
    {
      "cell_type": "code",
      "source": [
        "!jupyter nbconvert --to html /content/Forecasting_Bitcoin_Price_Movements_Using_GRU_Attention_Networks_and_Sentiment_Enhanced_Features_.ipynb"
      ],
      "metadata": {
        "colab": {
          "base_uri": "https://localhost:8080/"
        },
        "id": "yazxqdC6QEfT",
        "outputId": "616ab9ed-4065-4c99-821c-e18fee63b8fe"
      },
      "execution_count": 60,
      "outputs": [
        {
          "output_type": "stream",
          "name": "stdout",
          "text": [
            "[NbConvertApp] Converting notebook /content/Forecasting_Bitcoin_Price_Movements_Using_GRU_Attention_Networks_and_Sentiment_Enhanced_Features_.ipynb to html\n",
            "[NbConvertApp] WARNING | Alternative text is missing on 2 image(s).\n",
            "[NbConvertApp] Writing 512836 bytes to /content/Forecasting_Bitcoin_Price_Movements_Using_GRU_Attention_Networks_and_Sentiment_Enhanced_Features_.html\n"
          ]
        }
      ]
    }
  ],
  "metadata": {
    "accelerator": "GPU",
    "colab": {
      "gpuType": "A100",
      "provenance": []
    },
    "kernelspec": {
      "display_name": "Python 3",
      "name": "python3"
    },
    "language_info": {
      "name": "python"
    }
  },
  "nbformat": 4,
  "nbformat_minor": 0
}